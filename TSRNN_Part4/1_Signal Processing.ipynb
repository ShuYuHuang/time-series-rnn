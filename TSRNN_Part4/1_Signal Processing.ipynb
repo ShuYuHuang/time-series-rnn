{
 "cells": [
  {
   "cell_type": "markdown",
   "id": "1d08fdcb",
   "metadata": {
    "id": "34198e27"
   },
   "source": [
    "# Signall Processing工具使用"
   ]
  },
  {
   "cell_type": "markdown",
   "id": "857881d5",
   "metadata": {},
   "source": [
    "在理論課程中已有補充數位信號處裡的基礎與常見分析方式。\n",
    "\n",
    "這邊我們介紹用python完成這些訊號處裡的一些工具，方便後面AI modeling時使用。\n",
    "\n",
    "我們主要會聚焦在聲音處裡上，不過其中很多概念與工具都可以用在其他訊號的處理。"
   ]
  },
  {
   "cell_type": "markdown",
   "id": "a664ddb8",
   "metadata": {},
   "source": [
    "課程包含以下內容:\n",
    "* Audio data\n",
    "* Up/Down Sampling\n",
    "* Fast Fourier Transform\n",
    "* "
   ]
  },
  {
   "cell_type": "code",
   "execution_count": 3,
   "id": "42dc1557",
   "metadata": {},
   "outputs": [],
   "source": [
    "# 處理音訊最常用librosa\n",
    "!pip install librosa"
   ]
  },
  {
   "cell_type": "code",
   "execution_count": 4,
   "id": "19889f25",
   "metadata": {},
   "outputs": [],
   "source": [
    "import librosa"
   ]
  },
  {
   "cell_type": "code",
   "execution_count": null,
   "id": "ecde300e",
   "metadata": {},
   "outputs": [],
   "source": [
    "librosa.load"
   ]
  }
 ],
 "metadata": {
  "kernelspec": {
   "display_name": "Python 3 (ipykernel)",
   "language": "python",
   "name": "python3"
  },
  "language_info": {
   "codemirror_mode": {
    "name": "ipython",
    "version": 3
   },
   "file_extension": ".py",
   "mimetype": "text/x-python",
   "name": "python",
   "nbconvert_exporter": "python",
   "pygments_lexer": "ipython3",
   "version": "3.7.12"
  }
 },
 "nbformat": 4,
 "nbformat_minor": 5
}
