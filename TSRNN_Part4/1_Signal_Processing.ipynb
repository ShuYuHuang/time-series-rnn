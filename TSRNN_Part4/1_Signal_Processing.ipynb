{
  "cells": [
    {
      "cell_type": "markdown",
      "id": "1d08fdcb",
      "metadata": {
        "id": "1d08fdcb"
      },
      "source": [
        "# Signall Processing工具使用"
      ]
    },
    {
      "cell_type": "markdown",
      "id": "857881d5",
      "metadata": {
        "id": "857881d5"
      },
      "source": [
        "在理論課程中已有補充數位信號處裡的基礎與常見分析方式。\n",
        "\n",
        "這邊我們介紹用python完成這些訊號處裡的一些工具，方便後面AI modeling時使用。\n",
        "\n",
        "我們主要會聚焦在聲音處裡上，不過其中很多概念與工具都可以用在其他訊號的處理。"
      ]
    },
    {
      "cell_type": "markdown",
      "id": "a664ddb8",
      "metadata": {
        "id": "a664ddb8"
      },
      "source": [
        "課程包含以下內容:\n",
        "* Audio data\n",
        "* Up/Down Sampling\n",
        "* Fast Fourier Transform (FFT)\n",
        "* Short-Time Fourier Transform (STFT)\n",
        "* Mel-Spectrogram\n",
        "* Mel-Frequency Cepstral Coefficient (MFCC)"
      ]
    },
    {
      "cell_type": "code",
      "execution_count": null,
      "id": "42dc1557",
      "metadata": {
        "id": "42dc1557"
      },
      "outputs": [],
      "source": [
        "# 處理音訊最常用librosa\n",
        "!pip install librosa"
      ]
    },
    {
      "cell_type": "code",
      "execution_count": null,
      "id": "19889f25",
      "metadata": {
        "id": "19889f25"
      },
      "outputs": [],
      "source": [
        "import librosa\n",
        "import IPython.display as idp # 播音工具\n",
        "import numpy as np # 輔助運算\n",
        "import matplotlib.pyplot as plt # 輔助畫圖\n",
        "from plotly import express as px\n"
      ]
    },
    {
      "cell_type": "code",
      "source": [
        "def plot_signal(signal,sr, start=0, end=None, labels=None,title=None):\n",
        "    \n",
        "    ## Visualizes signal data\n",
        "    ## Args:\n",
        "    #  signal (list of array of int) - 時間點對應的訊號，列表內時間序列數量為D，每筆資料長度為T，若非為列表則轉為列表\n",
        "    #  start (int) - 開始的資料序(第幾筆)\n",
        "    #  end (int) -   結束繪製的資料序(第幾筆)\n",
        "    #  labels (list of strings)- 對於多時間序列或多維度的標註\n",
        "    #  title (string)- 圖片標題\n",
        "    \n",
        "    # 若資料只有一筆，則轉為list\n",
        "    if type(signal)!=list:\n",
        "        signal=[signal]\n",
        "        \n",
        "    if not end:\n",
        "        end=len(signal[0])\n",
        "    time=(np.arange(len(signal[0]))/sr)[start:end]\n",
        "    if labels:\n",
        "    # 設立dictionary, 讓plotly畫訊號線時可以標註label    \n",
        "        dictionary={\"time\":time}\n",
        "        for idx,l in enumerate(labels):\n",
        "            # 截斷資料，保留想看的部分，並分段紀錄於dictionary中\n",
        "            dictionary.update({l:signal[idx][start:end]})\n",
        "        # 畫訊號線\n",
        "        fig = px.line(dictionary,x=\"time\",y=list(dictionary.keys())[1:],width=1000, height=400,title=title)\n",
        "    else:\n",
        "        # 畫訊號線\n",
        "        fig = px.line(x=time,y=signal,width=1000, height=400,title=title)\n",
        "    fig.show()"
      ],
      "metadata": {
        "id": "QcqLSsCzOem7"
      },
      "id": "QcqLSsCzOem7",
      "execution_count": null,
      "outputs": []
    },
    {
      "cell_type": "markdown",
      "source": [
        "## Audio Data"
      ],
      "metadata": {
        "id": "HyKOaGqmBr6l"
      },
      "id": "HyKOaGqmBr6l"
    },
    {
      "cell_type": "markdown",
      "source": [
        "我們可以使用Librosa讀取資料，這邊提供範例資料:\n",
        "* google小姐的一段語音 (以這個為示範) - mrs_google_aia.mp3\n",
        "* 鋼琴聲(Mozart, Sonata K.331 - I. Andante grazioso) (可以拿來自行練習) - signal_googl.wav\n"
      ],
      "metadata": {
        "id": "l4q7DGb6ByUF"
      },
      "id": "l4q7DGb6ByUF"
    },
    {
      "cell_type": "code",
      "execution_count": null,
      "id": "ecde300e",
      "metadata": {
        "id": "ecde300e"
      },
      "outputs": [],
      "source": [
        "# 下載檔案\n",
        "!gdown https://drive.google.com/u/0/uc?id=1xOfGFiCQXNOkolPOdm2mC9Wh5Yx05cVJ&export=download\n",
        "!gdown https://drive.google.com/u/0/uc?id=1sg_UqyOgr7COBWobbcjrwW7Mb5v-EfzC&export=download"
      ]
    },
    {
      "cell_type": "code",
      "source": [
        "## 使用librosa.load可以讀取檔案，讀出來預設是float32格式\n",
        "# 'path' - 檔名\n",
        "# 'sr' - 可以指定聲音檔讀出來後的sampling rate\n",
        "\n",
        "googl_,sr=librosa.load(\"mrs_google_aia.mp3\") # 讀出訊號檔以及sampling rate\n",
        "piano_,sr=librosa.load(\"signal_piano.wav\") # 讀出訊號檔以及sampling rate"
      ],
      "metadata": {
        "id": "V5YigFrPB7mf"
      },
      "id": "V5YigFrPB7mf",
      "execution_count": null,
      "outputs": []
    },
    {
      "cell_type": "code",
      "source": [
        "# 使用IPython的display.Audio可以放出來試聽\n",
        "idp.Audio(\"signal_piano.wav\")"
      ],
      "metadata": {
        "id": "tTMdnU7tb3e7"
      },
      "id": "tTMdnU7tb3e7",
      "execution_count": null,
      "outputs": []
    },
    {
      "cell_type": "code",
      "source": [
        "idp.Audio(\"mrs_google_aia.mp3\")"
      ],
      "metadata": {
        "id": "8aU9ZBNgb4ED"
      },
      "id": "8aU9ZBNgb4ED",
      "execution_count": null,
      "outputs": []
    },
    {
      "cell_type": "code",
      "source": [
        "%matplotlib inline\n",
        "# 使用librosa的display.waveplot可以將圖畫出來，並且對上實際時間做為參考\n",
        "ldp.waveplot(googl_,sr=sr)"
      ],
      "metadata": {
        "id": "6i4yI_JEB_WH"
      },
      "id": "6i4yI_JEB_WH",
      "execution_count": null,
      "outputs": []
    },
    {
      "cell_type": "code",
      "source": [
        "# librosa那邊的圖不太能操控或縮放，所以也可以自己用plotly寫的比較好操控，可以Zoom-in\n",
        "plot_signal(googl_,sr,labels=['google'])"
      ],
      "metadata": {
        "id": "vpfNWgFOMDIK"
      },
      "id": "vpfNWgFOMDIK",
      "execution_count": null,
      "outputs": []
    },
    {
      "cell_type": "markdown",
      "source": [
        "把訊號畫出來對解析很重要，但每種情況可能需求都不太一樣\n",
        "\n",
        "例如音訊可能十分密集，所以可能可以不需要看得太細，可以稍微re-sample一下"
      ],
      "metadata": {
        "id": "1XlSHdUrQ3Pj"
      },
      "id": "1XlSHdUrQ3Pj"
    },
    {
      "cell_type": "markdown",
      "source": [
        "## Re-Sampling"
      ],
      "metadata": {
        "id": "sqwPN5MHXY2U"
      },
      "id": "sqwPN5MHXY2U"
    },
    {
      "cell_type": "markdown",
      "source": [
        "Sampling rate的調整是處理訊號重要的一環，要是要將兩個訊號疊加，但發現兩者雖然sample數相同sampling rage卻不相符則會有錯誤的疊加效果。"
      ],
      "metadata": {
        "id": "-LyLuoopcivt"
      },
      "id": "-LyLuoopcivt"
    },
    {
      "cell_type": "markdown",
      "source": [
        "Re- sampling有各種方法，對訊號皆有擾動，詳細可參考librosa官網參數```res_type```:\n",
        "https://librosa.org/doc/main/generated/librosa.resample.html\n",
        "\n",
        "預設的就一般訊號分析來講很夠用了。"
      ],
      "metadata": {
        "id": "fuAAH1cAdGwN"
      },
      "id": "fuAAH1cAdGwN"
    },
    {
      "cell_type": "markdown",
      "source": [
        "### Downsample"
      ],
      "metadata": {
        "id": "UxMss50vfatG"
      },
      "id": "UxMss50vfatG"
    },
    {
      "cell_type": "code",
      "source": [
        "# Downsample 減少sampling rate,也減少資料點數\n",
        "googl_3000=librosa.resample(googl_,orig_sr=sr,target_sr=3000)"
      ],
      "metadata": {
        "id": "KL3Hrw-OXYTs"
      },
      "id": "KL3Hrw-OXYTs",
      "execution_count": null,
      "outputs": []
    },
    {
      "cell_type": "code",
      "source": [
        "# 同樣是10秒錄音，在resample後點數會變少\n",
        "print(len(googl_),len(googl_3000))\n",
        "# 若是需求的sampling rate剛好是原本的因數，那也可以直接依downsample的倍率做sample\n",
        "googl_11025=googl_[::2]\n",
        "print(len(googl_),len(googl_11025))"
      ],
      "metadata": {
        "id": "eVJhSrU2eS0G"
      },
      "id": "eVJhSrU2eS0G",
      "execution_count": null,
      "outputs": []
    },
    {
      "cell_type": "code",
      "source": [
        "# 可聽出聲音變得比較朦朧，第一是downsample後失真，第二也是人類對特定頻段較有知覺，剛好有些頻段被截掉了\n",
        "# 參考 https://en.wikipedia.org/wiki/Equal-loudness_contour\n",
        "idp.Audio(googl_3000,rate=3000)"
      ],
      "metadata": {
        "id": "dGxuGmA7P5hr"
      },
      "id": "dGxuGmA7P5hr",
      "execution_count": null,
      "outputs": []
    },
    {
      "cell_type": "code",
      "source": [
        "# 從waveplot上可以看到在經過downsample後 有點失真了\n",
        "ldp.waveplot(googl_[:int(0.2*sr)],sr=sr)\n",
        "ldp.waveplot(googl_3000[:int(0.2*3000)],sr=3000)"
      ],
      "metadata": {
        "id": "zcG4jP0DX-zA"
      },
      "id": "zcG4jP0DX-zA",
      "execution_count": null,
      "outputs": []
    },
    {
      "cell_type": "markdown",
      "source": [
        "### Upsample"
      ],
      "metadata": {
        "id": "Yty3j8OXfo6Z"
      },
      "id": "Yty3j8OXfo6Z"
    },
    {
      "cell_type": "code",
      "source": [
        "# Upsample 增加sampling rate,也增加資料點數\n",
        "googl_44100=librosa.resample(googl_,orig_sr=sr,target_sr=44100)"
      ],
      "metadata": {
        "id": "fDu37RRFYCqN"
      },
      "id": "fDu37RRFYCqN",
      "execution_count": null,
      "outputs": []
    },
    {
      "cell_type": "code",
      "source": [
        "# 可看一下資料數\n",
        "print(len(googl_),len(googl_44100))"
      ],
      "metadata": {
        "id": "ix-kQSSaf4zG"
      },
      "id": "ix-kQSSaf4zG",
      "execution_count": null,
      "outputs": []
    },
    {
      "cell_type": "code",
      "source": [
        "# 在upsample時不會有失真的情況，因為是類似在資料間插值補值\n",
        "ldp.waveplot(googl_[:int(0.2*sr)],sr=sr)\n",
        "ldp.waveplot(googl_44100[:int(0.2*44100)],sr=44100)"
      ],
      "metadata": {
        "id": "LLi9eBjCZQZN"
      },
      "id": "LLi9eBjCZQZN",
      "execution_count": null,
      "outputs": []
    },
    {
      "cell_type": "markdown",
      "source": [
        "一般來講upsampling都不存在標準答案，因為就是sampling rate不夠才要補。\n",
        "\n",
        "Upsampling本身後來在AI領域也變成一個議題，叫Super Resolution，使用訓練好的神經網路模型來做upsampling增加解析度。"
      ],
      "metadata": {
        "id": "umjSkvAyjiGX"
      },
      "id": "umjSkvAyjiGX"
    },
    {
      "cell_type": "markdown",
      "source": [
        "## Fast Fourier Transform"
      ],
      "metadata": {
        "id": "Dh79YwxhkHaA"
      },
      "id": "Dh79YwxhkHaA"
    },
    {
      "cell_type": "markdown",
      "source": [
        "分析訊號的成分最常見的方式是頻譜分析，連續訊號可以藉由Fourier Transform得到頻譜，也就是訊號在頻率上的分布。\n",
        "\n",
        "而對於數位訊號，我們可以藉由Discrete Fourier Transform得到頻譜\n",
        "$$𝐗_k≔\\sum\\limits_{𝑛=0}^{𝑁−1}𝑥_𝑛 𝑒^{(−𝑗2𝜋𝑘𝑛/𝑁)}$$\n",
        "\n",
        "<img src=https://i.imgur.com/CZh8cYU.png width=800>\n"
      ],
      "metadata": {
        "id": "b0pX0BkVm2-h"
      },
      "id": "b0pX0BkVm2-h"
    },
    {
      "cell_type": "markdown",
      "source": [
        "Scipy或者其他套件包有提供一些方式做快速的Discrete Fourier Transform，稱為Fast Fourier Transform(FFT)。\n",
        "\n",
        "若是訊號分析則用Scipy就好，若是要整合到神經網路上可能就得使用Tensorflow或Pytorch內建的fft。"
      ],
      "metadata": {
        "id": "EJAA1gQjkJrn"
      },
      "id": "EJAA1gQjkJrn"
    },
    {
      "cell_type": "code",
      "source": [
        "from scipy import fft "
      ],
      "metadata": {
        "id": "Cib8M4uqkI3_"
      },
      "id": "Cib8M4uqkI3_",
      "execution_count": null,
      "outputs": []
    },
    {
      "cell_type": "markdown",
      "source": [
        "$$$$這邊因為我們做的是離散的Fourier轉換，若要看到原本單位(seconds, Hz)則需進行轉換。\n",
        "* 時間: $n=f_s t$\n",
        "* 頻率: $k=f N /f_s$\n",
        "\n",
        "N為參與FFT的點數，$f_s$則是sampling rate。"
      ],
      "metadata": {
        "id": "2K_3FHIHgrQ7"
      },
      "id": "2K_3FHIHgrQ7"
    },
    {
      "cell_type": "code",
      "source": [
        "## 使用scipy.fft.fft可以對訊號做fft\n",
        "# 'x' - 資料\n",
        "# 'n' - FFT點數，通常不指定，預設為資料總點數\n",
        "# 記得做完Fourier Transform後不管是continuous/discrete/fast Fourier Transform, 出來都是複數 (預設為complex64格式)\n",
        "N=len(googl_)\n",
        "googl_f = fft.fft(googl_[:N])\n",
        "frequency=np.linspace(0,sr,N)\n",
        "max_f=sr/2 # 設定想看到的最大頻率 (Hz)\n",
        "max_k=int(max_f*N/sr) # 轉成k\n",
        "plt.plot(frequency[:max_k], abs(googl_f[:max_k])) # 通常我們是看這個複數的magnitude, 取absolute就可以做到\n",
        "plt.xlabel(\"frequency(Hz)\")"
      ],
      "metadata": {
        "id": "A23Krx1Olixg"
      },
      "id": "A23Krx1Olixg",
      "execution_count": null,
      "outputs": []
    },
    {
      "cell_type": "markdown",
      "source": [
        "在頻譜圖中我們可以看到較為高峰的點就表示訊號有較多該頻率成分。\n",
        "\n",
        "我們可以試著把做頻譜的時間縮點一點，來看看最前面一段的頻譜"
      ],
      "metadata": {
        "id": "R8ds4Y68eOLx"
      },
      "id": "R8ds4Y68eOLx"
    },
    {
      "cell_type": "code",
      "source": [
        "N1=int(0.12*sr)\n",
        "N2=int(0.15*sr)\n",
        "plt.plot(np.arange(N1,N2)/sr,googl_[N1:N2])\n",
        "plt.xlabel(\"time(s)\")\n",
        "plt.show()\n",
        "googl_f2 = fft.fft(googl_[N1:N2])\n",
        "frequency2=np.linspace(0,sr,N2-N1)\n",
        "max_f=4000 # 設定想看到的最大頻率 (Hz)\n",
        "max_k2=int(max_f*(N2-N1)/sr) # 轉成k\n",
        "plt.plot(frequency2[:max_k2],abs(googl_f2[:max_k2])) \n",
        "plt.xlabel(\"frequency(Hz)\")"
      ],
      "metadata": {
        "id": "AmXILhgio_wB"
      },
      "id": "AmXILhgio_wB",
      "execution_count": null,
      "outputs": []
    },
    {
      "cell_type": "markdown",
      "source": [
        "我們取第一個音的頻譜來看可看到一個主頻率，就語音來講會比較模糊一點"
      ],
      "metadata": {
        "id": "sWsStQmZkE-l"
      },
      "id": "sWsStQmZkE-l"
    },
    {
      "cell_type": "code",
      "source": [
        "plt.plot(frequency[:max_k],abs(googl_f[:max_k]))\n",
        "plt.plot(frequency2[:max_k2],abs(googl_f2[:max_k2])) \n",
        "plt.xlabel(\"frequency(Hz)\")"
      ],
      "metadata": {
        "id": "xMtdRiFEfvjD"
      },
      "id": "xMtdRiFEfvjD",
      "execution_count": null,
      "outputs": []
    },
    {
      "cell_type": "markdown",
      "source": [
        "擷取與整段對比:\n",
        "* 整段時長較長，堆積出的能量比較高\n",
        "* 整段音調混雜，彼此交錯"
      ],
      "metadata": {
        "id": "0UpCO6uEkZ_D"
      },
      "id": "0UpCO6uEkZ_D"
    },
    {
      "cell_type": "markdown",
      "source": [
        "亦可用```librosa.power_to_db```轉換成分貝頻譜來看，會使scale差比較多的部分較為緩和，方便比較"
      ],
      "metadata": {
        "id": "HZDVSP1by_UA"
      },
      "id": "HZDVSP1by_UA"
    },
    {
      "cell_type": "code",
      "source": [
        "librosa.power_to_db(abs(googl_f2))\n",
        "plt.plot(frequency[:max_k], librosa.power_to_db(abs(googl_f[:max_k])))\n",
        "plt.plot(frequency2[:max_k2], librosa.power_to_db(abs(googl_f2[:max_k2]))) \n",
        "plt.xlabel(\"frequency(Hz)\")"
      ],
      "metadata": {
        "id": "3GHhRC3Gy-oX"
      },
      "id": "3GHhRC3Gy-oX",
      "execution_count": null,
      "outputs": []
    },
    {
      "cell_type": "markdown",
      "source": [
        "## Short-Time Fourier Transform"
      ],
      "metadata": {
        "id": "TyxKFZ9glOXk"
      },
      "id": "TyxKFZ9glOXk"
    },
    {
      "cell_type": "markdown",
      "source": [
        "若是想統計出一段內出現哪些音符，則這個FFT就夠用了，但通常想知道的是在每個時間點頻率長什麼樣子就必須要做時頻分析。\n",
        "\n",
        "時頻分析中最常見的方式就是Sort-Time Fourier Transform:\n",
        "1. Windowing\n",
        "2. 個別做頻譜\n",
        "\n",
        "公式:\n",
        "\n",
        "$𝑋[q,k]=\\sum\\limits_{𝑛^′=⌈−𝑁/2⌉}^{⌈𝑁/2⌉−1}𝑥[𝑛^′+𝑞𝐻]𝑤[𝑛^′] 𝑒^\\frac{−𝑗2𝜋𝑘𝑛^′}{𝑁}$\n",
        "\n",
        "* q- 每個window的離散時間點\n",
        "* k- 離散頻率點\n",
        "* n'- 原訊號的離散時間點\n",
        "* N- window內FFT點數，同時是window size\n",
        "* H- hop size，每個window離多少n'\n",
        "* w- windowing function\n",
        "* x- signal\n",
        "\n",
        "<img src=https://i.imgur.com/Ji4xT6o.png width=600>\n"
      ],
      "metadata": {
        "id": "8T0FWW9clFWD"
      },
      "id": "8T0FWW9clFWD"
    },
    {
      "cell_type": "markdown",
      "source": [
        "Librosa裡面沒有FFT但有很多時頻分析的工具。\n",
        "\n",
        "我們這邊使用```librosa.stft```來做時頻分析"
      ],
      "metadata": {
        "id": "Kg2Iq4oml24E"
      },
      "id": "Kg2Iq4oml24E"
    },
    {
      "cell_type": "code",
      "source": [
        "## 使用librosa.stft可以對訊號做stft\n",
        "# 'y' - 資料\n",
        "# 'n_fft' - FFT點數，同時是window長度，這邊就一定要指定了，預設2048，可根據自己想看到的頻率範圍調整\n",
        "# 'hop_length' - 每個window間要跳多長\n",
        "# 'window' - windowing function，預設是 'hann'\n",
        "# 出來是複數 (預設為complex64格式)\n",
        "\n",
        "N=2048\n",
        "H=512\n",
        "googl_S = librosa.stft(googl_,n_fft=N, hop_length=H)"
      ],
      "metadata": {
        "id": "aO6mWtO4i8gj"
      },
      "id": "aO6mWtO4i8gj",
      "execution_count": null,
      "outputs": []
    },
    {
      "cell_type": "code",
      "source": [
        "# 可以看出，我們使用librosa STFT可生出一個K x Q 的矩陣 \n",
        "print(googl_S.shape)\n",
        "print(type(googl_S))\n",
        "print(type(googl_S[0,0]))"
      ],
      "metadata": {
        "id": "LupiQhJRpLWO"
      },
      "id": "LupiQhJRpLWO",
      "execution_count": null,
      "outputs": []
    },
    {
      "cell_type": "code",
      "source": [
        "# K的大小來自N points/2，因為大於sampling rate/2的訊號會aliase\n",
        "print(N//2+1)\n",
        "# Q的大小來自總長度除以hop length，就是windowing的次數\n",
        "print(len(googl_)//H+1)"
      ],
      "metadata": {
        "id": "1YJ3lxQRrTkO"
      },
      "id": "1YJ3lxQRrTkO",
      "execution_count": null,
      "outputs": []
    },
    {
      "cell_type": "markdown",
      "source": [
        "使用```librosa.display.specshow```可以畫出頻譜圖"
      ],
      "metadata": {
        "id": "o_4PTzc2smnX"
      },
      "id": "o_4PTzc2smnX"
    },
    {
      "cell_type": "code",
      "source": [
        "import librosa.display as ldp # 顯示訊號工具"
      ],
      "metadata": {
        "id": "ExdDODgYs0Ym"
      },
      "id": "ExdDODgYs0Ym",
      "execution_count": null,
      "outputs": []
    },
    {
      "cell_type": "code",
      "source": [
        "## 使用librosa.display.specshow畫出Spectrogram\n",
        "# 'data' - Spectrogram\n",
        "# 'sr' - sampling rate\n",
        "# 'x_axis' - x 軸刻度單位\n",
        "# 'y_axis' - y 軸刻度單位，預設為 'hz'，若要使用log scale可以用 'log'\n",
        "# 'cmap' - color map\n",
        "\n",
        "plt.figure(figsize=(6,5))\n",
        "ldp.specshow(abs(googl_S),sr=sr,x_axis=\"s\",y_axis=\"hz\",cmap=\"jet\")\n",
        "plt.colorbar(format=\"%+4.f\")\n",
        "plt.show()"
      ],
      "metadata": {
        "id": "RYGf63yUpOt1"
      },
      "id": "RYGf63yUpOt1",
      "execution_count": null,
      "outputs": []
    },
    {
      "cell_type": "markdown",
      "source": [
        "若全圖檢視可以看到所有包含的頻率，但其中Y軸的scale有點太大使得較低頻較有資訊的部分看不見，可以轉而使用log scale frequency"
      ],
      "metadata": {
        "id": "10s-uLFpthQ-"
      },
      "id": "10s-uLFpthQ-"
    },
    {
      "cell_type": "code",
      "source": [
        "plt.figure(figsize=(6,5))\n",
        "ldp.specshow(googl_S,sr=sr,x_axis=\"s\",y_axis=\"log\",cmap=\"jet\") # **\n",
        "plt.colorbar(format=\"%+4.f\")\n",
        "plt.clim([5,98]) # **\n",
        "plt.show()"
      ],
      "metadata": {
        "id": "IpEb4PCus1_I"
      },
      "id": "IpEb4PCus1_I",
      "execution_count": null,
      "outputs": []
    },
    {
      "cell_type": "markdown",
      "source": [
        "結果如果對比不夠明顯，可以使用```librosa.power_to_db```轉成分貝來看"
      ],
      "metadata": {
        "id": "efmGlOQp0Lff"
      },
      "id": "efmGlOQp0Lff"
    },
    {
      "cell_type": "code",
      "source": [
        "googl_S_db = librosa.power_to_db(abs(googl_S)) # **\n",
        "plt.figure(figsize=(6,5))\n",
        "ldp.specshow(googl_S_db,sr=sr,x_axis=\"s\",y_axis=\"log\",cmap=\"jet\")\n",
        "plt.colorbar(format=\"%+4.f\")\n",
        "plt.show()"
      ],
      "metadata": {
        "id": "qKSvw99Quyj3"
      },
      "id": "qKSvw99Quyj3",
      "execution_count": null,
      "outputs": []
    },
    {
      "cell_type": "markdown",
      "source": [
        "如果對於power較小的部分不想看到，可以調整```clim```"
      ],
      "metadata": {
        "id": "iIHp677w478C"
      },
      "id": "iIHp677w478C"
    },
    {
      "cell_type": "code",
      "source": [
        "googl_S_db = librosa.power_to_db(abs(googl_S))\n",
        "plt.figure(figsize=(6,5))\n",
        "ldp.specshow(googl_S_db, sr=sr, x_axis=\"s\", y_axis=\"log\", cmap=\"jet\")\n",
        "plt.colorbar(format=\"%+2.f\")\n",
        "plt.clim([-10,10]) # **\n",
        "plt.show()"
      ],
      "metadata": {
        "id": "UjvTObYV0GmI"
      },
      "id": "UjvTObYV0GmI",
      "execution_count": null,
      "outputs": []
    },
    {
      "cell_type": "markdown",
      "source": [
        "### Spectral-centroid"
      ],
      "metadata": {
        "id": "UgUwQJrGSBOQ"
      },
      "id": "UgUwQJrGSBOQ"
    },
    {
      "cell_type": "markdown",
      "source": [
        "若想要知道這個Spectrogram中頻率大致上在哪邊以及頻率的變化可以計算spectral centroid\n",
        "\n",
        "$SC[q]=\\sum\\limits_{k=1}^N{\\frac{F[q,k]}{\\sum_{k'=1}^N{F[q,k']}}\\times k}$\n",
        "\n",
        "librosa提供```librosa.feature.spectral_centroid```這個功能"
      ],
      "metadata": {
        "id": "ACJNQUgPSH74"
      },
      "id": "ACJNQUgPSH74"
    },
    {
      "cell_type": "code",
      "source": [
        "## 使用librosa.feature.spectral_centroid計算頻率中心隨時間的變化\n",
        "# 'y' or 'S' - 可以選擇由資料y從計算Spectrogram開始，也可以直接丟Spectrogram S 的magnitude\n",
        "# 'sr' - sampling rate\n",
        "# 若使用y當input會有以下做STFT的argument可以使用:\n",
        "## 'n_fft' - FFT點數，同時是window長度，這邊就一定要指定了，預設2048，可根據自己想看到的頻率範圍調整\n",
        "## 'hop_length' - 每個window間要跳多長\n",
        "## 'window' - windowing function，預設是 'hann'\n",
        "# 回傳單位是頻率 Hz\n",
        "mag_S=abs(googl_S)\n",
        "googl_sc = librosa.feature.spectral_centroid(S=mag_S,sr=sr)\n",
        "# N=2048\n",
        "# H=512\n",
        "# googl_sc = librosa.feature.spectral_centroid(y=googl_, sr=sr, n_fft=N , hop_length=H, window='hann' ) # 也可以從訊號開始"
      ],
      "metadata": {
        "id": "KYglegPlSAcA"
      },
      "id": "KYglegPlSAcA",
      "execution_count": null,
      "outputs": []
    },
    {
      "cell_type": "code",
      "source": [
        "mag_S.max()"
      ],
      "metadata": {
        "id": "tuTq1It0nqg3"
      },
      "id": "tuTq1It0nqg3",
      "execution_count": null,
      "outputs": []
    },
    {
      "cell_type": "code",
      "source": [
        "print(googl_S.shape,googl_sc.shape)\n",
        "print(googl_sc.max(),googl_sc.min())"
      ],
      "metadata": {
        "id": "smaiX3ShUogx"
      },
      "id": "smaiX3ShUogx",
      "execution_count": null,
      "outputs": []
    },
    {
      "cell_type": "markdown",
      "source": [
        "可以跟spectrogram一起畫，比較著看\n",
        "\n",
        "當然，因為每個聲音有他的harmonic在裡面會干擾頻率波動的準度 (例如沒有聲音時，整體頻率會掉到比較低的地方)，所以這個centroid還是當參考或者使用centroid來當新的feature提供訓練使用而已。"
      ],
      "metadata": {
        "id": "mkfxp4MAWt9B"
      },
      "id": "mkfxp4MAWt9B"
    },
    {
      "cell_type": "code",
      "source": [
        "times = librosa.times_like(googl_sc)\n",
        "fig, ax = plt.subplots()\n",
        "ldp.specshow(googl_S_db, sr=sr, x_axis=\"s\", y_axis=\"log\",cmap='jet')\n",
        "ax.plot(times, googl_sc.T, label='Spectral centroid', color='k')\n",
        "ax.legend(loc='upper right')"
      ],
      "metadata": {
        "id": "Y11aBaTyVb6Y"
      },
      "id": "Y11aBaTyVb6Y",
      "execution_count": null,
      "outputs": []
    },
    {
      "cell_type": "markdown",
      "source": [
        "以上是最常見做頻譜圖的方式。不過就像課堂中講的一樣會有頻率受到window function而有Spectral leakage的問題，並且也有頻率解析度與時間解析度的trade-off，在使用時須多加注意。"
      ],
      "metadata": {
        "id": "5yM8lROpQ30x"
      },
      "id": "5yM8lROpQ30x"
    },
    {
      "cell_type": "code",
      "source": [
        "# 這邊試一個Window比較大的情況，會使得頻率的解析度較高，但時間解析度會較差\n",
        "N=8192\n",
        "H=512\n",
        "\n",
        "googl_S = librosa.stft(googl_,n_fft=N, hop_length=H)\n",
        "mag_S=abs(googl_S)\n",
        "googl_sc = librosa.feature.spectral_centroid(S=mag_S,sr=sr)\n",
        "googl_S_db = librosa.power_to_db(abs(googl_S)) # **\n",
        "times = librosa.times_like(googl_sc)\n",
        "fig, ax = plt.subplots()\n",
        "ldp.specshow(googl_S_db, sr=sr, x_axis=\"s\", y_axis=\"log\",cmap='jet')\n",
        "ax.plot(times, googl_sc.T, label='Spectral centroid', color='k')\n",
        "ax.legend(loc='upper right')"
      ],
      "metadata": {
        "id": "TSuqO6iU27ZM"
      },
      "id": "TSuqO6iU27ZM",
      "execution_count": null,
      "outputs": []
    },
    {
      "cell_type": "markdown",
      "source": [
        "## Mel-Spectrogram"
      ],
      "metadata": {
        "id": "5_5ewDEh5tM7"
      },
      "id": "5_5ewDEh5tM7"
    },
    {
      "cell_type": "markdown",
      "source": [
        "在聲音訊號上，為模擬人類聽覺，常使用模擬人耳對頻率變化敏感度的Mel-Spectrogram來做時頻分析。\n",
        "\n",
        "其中會用到Mel-scale，是Herz經過log轉換後的單位，是因應頻率變化敏感度exponential上升的調整。"
      ],
      "metadata": {
        "id": "gSs06V2D4Xb8"
      },
      "id": "gSs06V2D4Xb8"
    },
    {
      "cell_type": "markdown",
      "source": [
        "<img src='https://i.imgur.com/jgSQKv4.png' width=800>"
      ],
      "metadata": {
        "id": "ChOXBuAyA8hc"
      },
      "id": "ChOXBuAyA8hc"
    },
    {
      "cell_type": "markdown",
      "source": [
        "在做完STFT後，對K'個等長頻段 (在Mel-Scale上等長) 進行triangle filter就是Mel-Spectrogram。\n",
        "\n",
        "使用的filter bank如下圖所示。\n",
        "\n",
        "e.g. 10 bins Mel filter bank for 65~1K Hz\n",
        "\n",
        "<img src='https://i.imgur.com/xDgS9qj.png' width=600>"
      ],
      "metadata": {
        "id": "d9s-_hqvCGiF"
      },
      "id": "d9s-_hqvCGiF"
    },
    {
      "cell_type": "markdown",
      "source": [
        "使用```librosa.feature.melspectrogram```可以針對訊號計算Mel Spectrogram。"
      ],
      "metadata": {
        "id": "xBg3tWVEQ1Jh"
      },
      "id": "xBg3tWVEQ1Jh"
    },
    {
      "cell_type": "code",
      "source": [
        "## 使用librosa.feature.melspectrogram計算Mel-Spectrogram\n",
        "# 'y' or 'S' - 可以選擇由資料y從計算Spectrogram開始，也可以直接丟Spectrogram S 的magnitude\n",
        "# 'sr' - sampling rate\n",
        "# 'n_mels' - 要有多少個bin，就是前述的K'\n",
        "# 若使用y當input會有以下做STFT的argument可以使用:\n",
        "## 'n_fft' - FFT點數，同時是window長度，這邊就一定要指定了，預設2048，可根據自己想看到的頻率範圍調整\n",
        "## 'hop_length' - 每個window間要跳多長\n",
        "## 'window' - windowing function，預設是 'hann'\n",
        "# 回傳Mel-Spectrum，是實數矩陣，預設為float32的格式\n",
        "N=2048\n",
        "H=512\n",
        "K_=256 # 這Mel-spectrum的bin數一定會比前面N來得少，才有辦法做filter，不然中間會有很多頻段有缺值\n",
        "googl_mel_S=librosa.feature.melspectrogram(googl_,sr=sr,n_mels=K_,n_fft=N,hop_length=H,window='hann')"
      ],
      "metadata": {
        "id": "APEh2IrK5Lmp"
      },
      "id": "APEh2IrK5Lmp",
      "execution_count": null,
      "outputs": []
    },
    {
      "cell_type": "code",
      "source": [
        "# 可以看一些基本性質\n",
        "print(googl_mel_S.shape)\n",
        "print(googl_mel_S.min(),googl_mel_S.max())\n",
        "print(type(googl_mel_S[0,0]))"
      ],
      "metadata": {
        "id": "J1-TglWmETt3"
      },
      "id": "J1-TglWmETt3",
      "execution_count": null,
      "outputs": []
    },
    {
      "cell_type": "markdown",
      "source": [
        "在畫spectrogram時記得把y軸scaling換成mel (指的是input單位)，這樣他才會幫忙轉回Hz，並且以Mel scaling排列顯示\n",
        "\n",
        "librosa設定的mel scale跟log scale會有稍微不同，較專注於較高頻的部分。"
      ],
      "metadata": {
        "id": "6roHHBw6JoCn"
      },
      "id": "6roHHBw6JoCn"
    },
    {
      "cell_type": "code",
      "source": [
        "googl_mel_S_db=librosa.power_to_db(googl_mel_S)\n",
        "plt.figure(figsize=(6,5))\n",
        "ldp.specshow(googl_mel_S_db,sr=sr,x_axis=\"s\",y_axis=\"mel\",cmap=\"jet\") ## **\n",
        "plt.colorbar(format=\"%+4.f\")\n",
        "plt.show()"
      ],
      "metadata": {
        "id": "UuuN9yvyEogd"
      },
      "id": "UuuN9yvyEogd",
      "execution_count": null,
      "outputs": []
    },
    {
      "cell_type": "code",
      "source": [],
      "metadata": {
        "id": "aAEn5ELSFqLt"
      },
      "id": "aAEn5ELSFqLt",
      "execution_count": null,
      "outputs": []
    }
  ],
  "metadata": {
    "kernelspec": {
      "display_name": "Python 3 (ipykernel)",
      "language": "python",
      "name": "python3"
    },
    "language_info": {
      "codemirror_mode": {
        "name": "ipython",
        "version": 3
      },
      "file_extension": ".py",
      "mimetype": "text/x-python",
      "name": "python",
      "nbconvert_exporter": "python",
      "pygments_lexer": "ipython3",
      "version": "3.7.12"
    },
    "colab": {
      "provenance": []
    }
  },
  "nbformat": 4,
  "nbformat_minor": 5
}