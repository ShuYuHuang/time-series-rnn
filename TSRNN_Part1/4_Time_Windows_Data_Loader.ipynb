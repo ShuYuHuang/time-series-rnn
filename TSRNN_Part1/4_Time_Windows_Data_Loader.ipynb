{
  "cells": [
    {
      "cell_type": "markdown",
      "metadata": {
        "id": "lRddWmT6YRuA"
      },
      "source": [
        "# Time Window Data Loader"
      ]
    },
    {
      "cell_type": "markdown",
      "metadata": {
        "id": "NN11LrySYRuE"
      },
      "source": [
        "以上我們學了一個時間序列資料基本的性值，並且也介紹最天真的幾種預測方式。\n",
        "\n",
        "而訓練模型時，常會需要將資料作隨機抽取，以便讓模型更新時增加隨機性也可以稍微避免over fitting。\n",
        "\n",
        "但是時間序列資料具局部關聯性，所以不能隨便抽樣離散的時間點，必須以time window為單位抽樣資料\n",
        "\n",
        "這邊我們介紹如何使用tf.data.Dataset來組成這樣抽樣的Dataloader:\n",
        "- tf.data.Dataset.window\n",
        "- Window-wise tf.data.Dataset\n",
        "- Complete Data Loader"
      ]
    },
    {
      "cell_type": "markdown",
      "metadata": {
        "id": "3EwBJlTJYRuF"
      },
      "source": [
        "**開始前先import必要套件**"
      ]
    },
    {
      "cell_type": "code",
      "execution_count": 62,
      "metadata": {
        "id": "B8dAR6IsYRuG"
      },
      "outputs": [],
      "source": [
        "import numpy as np\n",
        "import matplotlib.pyplot as plt\n",
        "%matplotlib inline\n",
        "\n",
        "from plotly import express as px"
      ]
    },
    {
      "cell_type": "markdown",
      "metadata": {
        "id": "Ns66GRyGYRuH"
      },
      "source": [
        "**畫圖的功能以及toy data產生器**"
      ]
    },
    {
      "cell_type": "code",
      "execution_count": 63,
      "metadata": {
        "id": "k13ZaduTYRuH"
      },
      "outputs": [],
      "source": [
        "def plot_series(time, series, start=0, end=None, labels=None,title=None):\n",
        "    \n",
        "    ## Visualizes time series data\n",
        "    ## Args:\n",
        "    #  time (array of int) - 時間點, 長度為T\n",
        "    #  series (list of array of int) - 時間點對應的資料列表，列表內時間序列數量為D，每筆資料長度為T，若非為列表則轉為列表\n",
        "    #  start (int) - 開始的資料序(第幾筆)\n",
        "    #  end (int) -   結束繪製的資料序(第幾筆)\n",
        "    #  labels (list of strings)- 對於多時間序列或多維度的標註\n",
        "    #  title (string)- 圖片標題\n",
        "    \n",
        "    # 若資料只有一筆，則轉為list\n",
        "    if type(series)!=list:\n",
        "        series=[series]\n",
        "        \n",
        "    if not end:\n",
        "        end=len(series[0])\n",
        "    \n",
        "    if labels:\n",
        "    # 設立dictionary, 讓plotly畫訊號線時可以標註label    \n",
        "        dictionary={\"time\":time}\n",
        "        for idx,l in enumerate(labels):\n",
        "            # 截斷資料，保留想看的部分，並分段紀錄於dictionary中\n",
        "            dictionary.update({l:series[idx][start:end]})\n",
        "        # 畫訊號線\n",
        "        fig = px.line(dictionary,x=\"time\",y=list(dictionary.keys())[1:],width=1000, height=400,title=title)\n",
        "    else:\n",
        "        # 畫訊號線\n",
        "        fig = px.line(x=time,y=series,width=1000, height=400,title=title)\n",
        "    fig.show()\n",
        "    \n",
        "def trend(time, slope=0):\n",
        "    # 產生合成水平直線資料，其長度與時間等長，直線趨勢與設定slope相同\n",
        "    ##Args:\n",
        "    #  time (array of int) - 時間點, 長度為T\n",
        "    #  slope (float) - 設定資料的傾斜程度與正負\n",
        "    ##Returns:\n",
        "    #  series (array of float) -  產出slope 與設定相同的一條線\n",
        "\n",
        "    series = slope * time\n",
        "\n",
        "    return series\n",
        "def seasonal_pattern(season_time,pattern_type='triangle'):\n",
        "    # 產生某個特定pattern，\n",
        "    ##Args:\n",
        "    #  season_time (array of float) - 周期內的時間點, 長度為T\n",
        "    #  pattern_type (str) -  這邊提供triangle與cosine\n",
        "    ##Returns:\n",
        "    #  data_pattern (array of float) -  根據自訂函式產出特定的pattern\n",
        "\n",
        "    # 用特定function生成pattern\n",
        "    \n",
        "    if pattern_type=='triangle':\n",
        "        \n",
        "        data_pattern = np.where(season_time < 0.5,\n",
        "                        season_time*2,\n",
        "                        2-season_time*2)\n",
        "        \n",
        "    if pattern_type=='cosine':\n",
        "        data_pattern=np.cos(season_time*np.pi*2)\n",
        "        \n",
        "    return data_pattern\n",
        "def seasonality(time, period, amplitude=1, phase=30,pattern_type='triangle'):\n",
        "    ## Repeats the same pattern at each period\n",
        "    ## Args:\n",
        "    #   time (array of int) - 時間點, 長度為T\n",
        "    #   period (int) - 週期長度，必小於T\n",
        "    #   amplitude (float) - 序列幅度大小\n",
        "    #   phase (int) - 相位，為遞移量，正的向左(提前)、負的向右(延後)\n",
        "    #   pattern_type (str) -  這邊提供triangle與cosine\n",
        "    ## Returns:\n",
        "    #   data_pattern (array of float) - 有指定周期、振幅、相位、pattern後的time series\n",
        "    \n",
        "    # 將時間依週期重置為0\n",
        "    season_time = ((time + phase) % period) / period\n",
        "\n",
        "    # 產生週期性訊號並乘上幅度\n",
        "    data_pattern = amplitude * seasonal_pattern(season_time,pattern_type)\n",
        "\n",
        "    return data_pattern\n",
        "def noise(time, noise_level=1, seed=None):\n",
        "    ## 合成雜訊，這邊用高斯雜訊，機率密度為常態分布\n",
        "    ## Args:\n",
        "    #   time (array of int) - 時間點, 長度為T\n",
        "    #   noise_level (float) - 雜訊大小\n",
        "    #   seed (int) - 同樣的seed可以重現同樣的雜訊\n",
        "    ## Returns:\n",
        "    #   noise (array of float) - 雜訊時間序列\n",
        "\n",
        "\n",
        "    # 做一個基於某個seed的雜訊生成器\n",
        "    rnd = np.random.RandomState(seed)\n",
        "    \n",
        "    # 生與time同長度的雜訊，並且乘上雜訊大小 (不乘的話，標準差是1)\n",
        "    noise = rnd.randn(len(time)) * noise_level\n",
        "    \n",
        "    return noise\n",
        "\n",
        "def toy_generation(time,\n",
        "            bias=500.,\n",
        "            slope = 0.1,\n",
        "            period = 180,\n",
        "            amplitude = 40.,\n",
        "            phase= 30,\n",
        "            pattern_type = 'triangle',\n",
        "            noise_level=5.,\n",
        "            seed=2022):\n",
        "    signal_series =  trend(time, slope)\\\n",
        "                     +bias \\\n",
        "                     +seasonality(time,\n",
        "                                  period,\n",
        "                                  amplitude,\n",
        "                                  phase,\n",
        "                                  pattern_type)\n",
        "    noise_series = noise(time,noise_level,seed) \n",
        "\n",
        "    series=signal_series+noise_series\n",
        "    return series\n",
        "\n"
      ]
    },
    {
      "cell_type": "code",
      "execution_count": 64,
      "metadata": {
        "id": "YHTIPK-NYRuJ"
      },
      "outputs": [],
      "source": [
        "def split(x,train_size):\n",
        "    return x[...,:train_size],x[...,train_size:]\n",
        "\n",
        "# 先合成資料，還有作資料分割\n",
        "time=np.arange(4 * 365) # 定義時間點\n",
        "series_sample=toy_generation(time) # 這就是我們合成出來的資料\n",
        "\n",
        "time_train,time_test=split(time,365*3)\n",
        "series_train,series_test=split(series_sample,365*3)"
      ]
    },
    {
      "cell_type": "markdown",
      "metadata": {
        "id": "NEqK4_zrYRuK"
      },
      "source": [
        "## tf.data.Dataset.window"
      ]
    },
    {
      "cell_type": "markdown",
      "metadata": {
        "id": "cTrF1VIMYRuK"
      },
      "source": [
        "這邊我們會使用tf.data API，\n",
        "\n",
        "裡面用tf.data.Dataset這個套件，將資料作成一個生成器：每次丟出特定處理過的部分資料，並且轉為tf.Tensor型態。\n",
        "\n",
        "詳細使用方法請參考我們Deep Learning章節。"
      ]
    },
    {
      "cell_type": "code",
      "execution_count": 65,
      "metadata": {
        "id": "8JsP3YPLYRuL"
      },
      "outputs": [],
      "source": [
        "import tensorflow.data as tfd"
      ]
    },
    {
      "cell_type": "code",
      "execution_count": 66,
      "metadata": {
        "colab": {
          "base_uri": "https://localhost:8080/"
        },
        "id": "NwIxv3IfYRuL",
        "outputId": "b13771be-5699-4ad8-f710-2e237ac544a3"
      },
      "outputs": [
        {
          "output_type": "stream",
          "name": "stdout",
          "text": [
            "Original Dataset\n",
            "tf.Tensor(0, shape=(), dtype=int64) 0\n",
            "tf.Tensor(1, shape=(), dtype=int64) 1\n",
            "tf.Tensor(2, shape=(), dtype=int64) 2\n",
            "tf.Tensor(3, shape=(), dtype=int64) 3\n",
            "tf.Tensor(4, shape=(), dtype=int64) 4\n",
            "tf.Tensor(5, shape=(), dtype=int64) 5\n"
          ]
        }
      ],
      "source": [
        "dataset=tfd.Dataset.range(6)\n",
        "print('Original Dataset')\n",
        "for d in dataset:\n",
        "    print(d,d.numpy()) # 可以用.numpy()轉成numpy格式，方便印出來看"
      ]
    },
    {
      "cell_type": "markdown",
      "metadata": {
        "id": "SlEWv7GIYRuM"
      },
      "source": [
        "使用```.window(size=W,shift=B)```功能可以將原本data以```W```為單位輸出，並每次往右位移```B```個單位找第一個資料，所以每個window的起始點間距為B\n",
        "\n",
        "$w[k,\\tau]=y[B*k+\\tau]$, for $\\tau\\in\\{0,1,2,...,W\\}$"
      ]
    },
    {
      "cell_type": "markdown",
      "metadata": {
        "id": "y_4JDlNWYRuM"
      },
      "source": [
        "<img src=https://i.imgur.com/krybbFp.png width=400 align=left>"
      ]
    },
    {
      "cell_type": "markdown",
      "metadata": {
        "id": "2WaFdE8UYRuM"
      },
      "source": [
        "切成好幾個dataset"
      ]
    },
    {
      "cell_type": "code",
      "execution_count": 67,
      "metadata": {
        "colab": {
          "base_uri": "https://localhost:8080/"
        },
        "id": "EvyRgROoYRuM",
        "outputId": "67fd5f33-8179-4f68-ee35-3b898a91a9a3"
      },
      "outputs": [
        {
          "output_type": "stream",
          "name": "stdout",
          "text": [
            "Windowed Datasets\n",
            "<_VariantDataset element_spec=TensorSpec(shape=(), dtype=tf.int64, name=None)>\n",
            "[0, 1, 2]\n",
            "------\n",
            "<_VariantDataset element_spec=TensorSpec(shape=(), dtype=tf.int64, name=None)>\n",
            "[1, 2, 3]\n",
            "------\n",
            "<_VariantDataset element_spec=TensorSpec(shape=(), dtype=tf.int64, name=None)>\n",
            "[2, 3, 4]\n",
            "------\n",
            "<_VariantDataset element_spec=TensorSpec(shape=(), dtype=tf.int64, name=None)>\n",
            "[3, 4, 5]\n",
            "------\n",
            "<_VariantDataset element_spec=TensorSpec(shape=(), dtype=tf.int64, name=None)>\n",
            "[4, 5]\n",
            "------\n",
            "<_VariantDataset element_spec=TensorSpec(shape=(), dtype=tf.int64, name=None)>\n",
            "[5]\n",
            "------\n"
          ]
        }
      ],
      "source": [
        "print('Windowed Datasets')\n",
        "for ds in dataset.window(size=3,shift=1):\n",
        "    print(ds)\n",
        "    print([d.numpy() for d in ds])\n",
        "    print('------')"
      ]
    },
    {
      "cell_type": "markdown",
      "metadata": {
        "id": "I-9qh5RRYRuN"
      },
      "source": [
        "用```drop_remainder=True```可以把不滿足window size的dataset丟掉"
      ]
    },
    {
      "cell_type": "code",
      "execution_count": 68,
      "metadata": {
        "scrolled": true,
        "colab": {
          "base_uri": "https://localhost:8080/"
        },
        "id": "Cz6sUGsqYRuN",
        "outputId": "c2d35bc8-377c-4a1b-922b-29fff0c96c81"
      },
      "outputs": [
        {
          "output_type": "stream",
          "name": "stdout",
          "text": [
            "Windowed Datasets\n",
            "<_VariantDataset element_spec=TensorSpec(shape=(), dtype=tf.int64, name=None)>\n",
            "[0, 1, 2]\n",
            "------\n",
            "<_VariantDataset element_spec=TensorSpec(shape=(), dtype=tf.int64, name=None)>\n",
            "[1, 2, 3]\n",
            "------\n",
            "<_VariantDataset element_spec=TensorSpec(shape=(), dtype=tf.int64, name=None)>\n",
            "[2, 3, 4]\n",
            "------\n",
            "<_VariantDataset element_spec=TensorSpec(shape=(), dtype=tf.int64, name=None)>\n",
            "[3, 4, 5]\n",
            "------\n"
          ]
        }
      ],
      "source": [
        "print('Windowed Datasets')\n",
        "for ds in dataset.window(size=3,shift=1, drop_remainder=True):\n",
        "    print(ds)\n",
        "    print([d.numpy() for d in ds])\n",
        "    print('------')"
      ]
    },
    {
      "cell_type": "markdown",
      "metadata": {
        "id": "BEnJJ_NSYRuN"
      },
      "source": [
        "## Window-wise tf.Dataset"
      ]
    },
    {
      "cell_type": "markdown",
      "metadata": {
        "id": "uqDpApRPYRuN"
      },
      "source": [
        "但我們希望一次餵給模型的不是一個dataset還要迴圈，而是一串資料。\n",
        "\n",
        "所以我們用```flat_map(mapfun)```處理剛剛的結果，它會將每個資料夾先經過指定處理```mapfun```後，輸出成一個tf.Tensor而不是資料集"
      ]
    },
    {
      "cell_type": "code",
      "execution_count": 69,
      "metadata": {
        "colab": {
          "base_uri": "https://localhost:8080/"
        },
        "id": "wrwBhcluYRuO",
        "outputId": "0058b5d7-4820-4f9b-f3a1-ba7b1d622312"
      },
      "outputs": [
        {
          "output_type": "stream",
          "name": "stdout",
          "text": [
            "[0 1 2 3]\n",
            "[1 2 3 4]\n",
            "[2 3 4 5]\n",
            "[3 4 5 6]\n",
            "[4 5 6 7]\n",
            "[5 6 7 8]\n",
            "[6 7 8 9]\n"
          ]
        }
      ],
      "source": [
        "W=4\n",
        "dataset=tfd.Dataset.range(10)\n",
        "win_ds=dataset.window(size=W,shift=1, drop_remainder=True)\n",
        "win_ds=win_ds.flat_map(lambda ds: ds.batch(W))\n",
        "for ds in win_ds:\n",
        "    print(ds.numpy())"
      ]
    },
    {
      "cell_type": "markdown",
      "metadata": {
        "id": "FhUacT83YRuO"
      },
      "source": [
        "最後我們將指定windo-wize的input資料與forcast目標\n",
        "\n",
        "**預測下一個內容**\n",
        "* 輸入序列: window中的前W-1個資料\n",
        "* forcast目標: window中最後1個資料"
      ]
    },
    {
      "cell_type": "code",
      "execution_count": 70,
      "metadata": {
        "colab": {
          "base_uri": "https://localhost:8080/"
        },
        "id": "0lfd9RjxYRuO",
        "outputId": "e8c98322-b5c2-4219-83dd-12f05fc1ea14"
      },
      "outputs": [
        {
          "output_type": "stream",
          "name": "stdout",
          "text": [
            "x =  [0 1 2] y =  [3]\n",
            "x =  [1 2 3] y =  [4]\n",
            "x =  [2 3 4] y =  [5]\n",
            "x =  [3 4 5] y =  [6]\n",
            "x =  [4 5 6] y =  [7]\n",
            "x =  [5 6 7] y =  [8]\n",
            "x =  [6 7 8] y =  [9]\n"
          ]
        }
      ],
      "source": [
        "ds=win_ds.map(lambda x: (x[:-1],x[-1:]))\n",
        "for x,y in ds:\n",
        "    print(\"x = \", x.numpy(),\"y = \", y.numpy())"
      ]
    },
    {
      "cell_type": "markdown",
      "metadata": {
        "id": "PYBNB7-SYRuO"
      },
      "source": [
        "**預測下K個內容**\n",
        "* 輸入序列: window中的前W-K個資料\n",
        "* forcast目標: window中最後K個資料"
      ]
    },
    {
      "cell_type": "code",
      "execution_count": 71,
      "metadata": {
        "colab": {
          "base_uri": "https://localhost:8080/"
        },
        "id": "pYSzfz2gYRuP",
        "outputId": "2e5eff69-902a-4279-8c26-15860413f853"
      },
      "outputs": [
        {
          "output_type": "stream",
          "name": "stdout",
          "text": [
            "x =  [0 1] y =  [2 3]\n",
            "x =  [1 2] y =  [3 4]\n",
            "x =  [2 3] y =  [4 5]\n",
            "x =  [3 4] y =  [5 6]\n",
            "x =  [4 5] y =  [6 7]\n",
            "x =  [5 6] y =  [7 8]\n",
            "x =  [6 7] y =  [8 9]\n"
          ]
        }
      ],
      "source": [
        "K=2\n",
        "ds=win_ds.map(lambda x: (x[:-K],x[-K:]))\n",
        "for x,y in ds:\n",
        "    print(\"x = \", x.numpy(),\"y = \", y.numpy())"
      ]
    },
    {
      "cell_type": "markdown",
      "metadata": {
        "id": "N71B-7llYRuP"
      },
      "source": [
        "## Complete Data Loader"
      ]
    },
    {
      "cell_type": "markdown",
      "metadata": {
        "id": "0Y98B8aoYRuP"
      },
      "source": [
        "我們的目標是要產生一個可以作各種資料分配操控的data loader，我們現在已經可以一次生成一個x,y\n",
        "\n",
        "而訓練目標通常以預測下一個資料為主，我們可以先把剛剛的dataset產生的包成function:"
      ]
    },
    {
      "cell_type": "code",
      "execution_count": 72,
      "metadata": {
        "id": "nys8r4VvYRuP"
      },
      "outputs": [],
      "source": [
        "def win_ar_ds(series,size,shift=1):\n",
        "    ## 輸出Window-wise Forcasting Dataset\n",
        "    ## Args:\n",
        "    #   series (array of float) - 時序資料, 長度為T\n",
        "    #   size (int) - Window大小\n",
        "    #   shift (int) - 每個window起始點間距\n",
        "    ## Returns:\n",
        "    #   (tf.data.Dataset(母類名稱，切確type為MapDataset)) - 一個一次生一個window的生成器\n",
        "    ds=tfd.Dataset.from_tensor_slices(series)\n",
        "    ds=ds.window(size=size+1,shift=1, drop_remainder=True)\n",
        "    ds=ds.flat_map(lambda ds: ds.batch(size+1))\n",
        "    return ds.map(lambda x: (x[:-1],x[-1:]))"
      ]
    },
    {
      "cell_type": "code",
      "execution_count": 73,
      "metadata": {
        "id": "HPxuraoWYRuP"
      },
      "outputs": [],
      "source": [
        "train_ds=win_ar_ds(series_train,size=10) #切time series\n",
        "time_ds=win_ar_ds(time_train,size=10) # time那邊也可以切出來對照一下"
      ]
    },
    {
      "cell_type": "code",
      "execution_count": 74,
      "metadata": {
        "id": "UKAhEck0YRuQ"
      },
      "outputs": [],
      "source": [
        "# 我們吐前三個資料出來看\n",
        "xx=[]\n",
        "yy=[]\n",
        "time_xx=[]\n",
        "time_yy=[]\n",
        "for (time_x,time_y),(x,y) in zip(time_ds.take(3),train_ds.take(3)):\n",
        "    time_xx.append(time_x.numpy())\n",
        "    time_yy.append(time_y[0].numpy())\n",
        "    xx.append(x.numpy())\n",
        "    yy.append(y[0].numpy())"
      ]
    },
    {
      "cell_type": "code",
      "execution_count": 75,
      "metadata": {
        "scrolled": false,
        "colab": {
          "base_uri": "https://localhost:8080/",
          "height": 1000
        },
        "id": "jWRZJ6CZYRuQ",
        "outputId": "10b7f4d6-20a8-4093-ed93-b151ce6597a5"
      },
      "outputs": [
        {
          "output_type": "display_data",
          "data": {
            "text/html": [
              "<html>\n",
              "<head><meta charset=\"utf-8\" /></head>\n",
              "<body>\n",
              "    <div>            <script src=\"https://cdnjs.cloudflare.com/ajax/libs/mathjax/2.7.5/MathJax.js?config=TeX-AMS-MML_SVG\"></script><script type=\"text/javascript\">if (window.MathJax) {MathJax.Hub.Config({SVG: {font: \"STIX-Web\"}});}</script>                <script type=\"text/javascript\">window.PlotlyConfig = {MathJaxConfig: 'local'};</script>\n",
              "        <script src=\"https://cdn.plot.ly/plotly-2.8.3.min.js\"></script>                <div id=\"9c203fd5-bcd7-492e-bbad-d6e6a450f03b\" class=\"plotly-graph-div\" style=\"height:400px; width:1000px;\"></div>            <script type=\"text/javascript\">                                    window.PLOTLYENV=window.PLOTLYENV || {};                                    if (document.getElementById(\"9c203fd5-bcd7-492e-bbad-d6e6a450f03b\")) {                    Plotly.newPlot(                        \"9c203fd5-bcd7-492e-bbad-d6e6a450f03b\",                        [{\"hovertemplate\":\"variable=wide_variable_0<br>x=%{x}<br>value=%{y}<extra></extra>\",\"legendgroup\":\"wide_variable_0\",\"line\":{\"color\":\"#636efa\",\"dash\":\"solid\"},\"marker\":{\"symbol\":\"circle\"},\"mode\":\"lines\",\"name\":\"wide_variable_0\",\"orientation\":\"v\",\"showlegend\":true,\"x\":[0,1,2,3,4,5,6,7,8,9],\"xaxis\":\"x\",\"y\":[513.3306938379036,512.5032706533226,513.7257944140008,524.8900974552004,516.9216577399686,519.859598844829,518.1049080306318,519.8459307885938,519.5563753253542,520.1224003025335],\"yaxis\":\"y\",\"type\":\"scatter\"}],                        {\"template\":{\"data\":{\"bar\":[{\"error_x\":{\"color\":\"#2a3f5f\"},\"error_y\":{\"color\":\"#2a3f5f\"},\"marker\":{\"line\":{\"color\":\"#E5ECF6\",\"width\":0.5},\"pattern\":{\"fillmode\":\"overlay\",\"size\":10,\"solidity\":0.2}},\"type\":\"bar\"}],\"barpolar\":[{\"marker\":{\"line\":{\"color\":\"#E5ECF6\",\"width\":0.5},\"pattern\":{\"fillmode\":\"overlay\",\"size\":10,\"solidity\":0.2}},\"type\":\"barpolar\"}],\"carpet\":[{\"aaxis\":{\"endlinecolor\":\"#2a3f5f\",\"gridcolor\":\"white\",\"linecolor\":\"white\",\"minorgridcolor\":\"white\",\"startlinecolor\":\"#2a3f5f\"},\"baxis\":{\"endlinecolor\":\"#2a3f5f\",\"gridcolor\":\"white\",\"linecolor\":\"white\",\"minorgridcolor\":\"white\",\"startlinecolor\":\"#2a3f5f\"},\"type\":\"carpet\"}],\"choropleth\":[{\"colorbar\":{\"outlinewidth\":0,\"ticks\":\"\"},\"type\":\"choropleth\"}],\"contour\":[{\"colorbar\":{\"outlinewidth\":0,\"ticks\":\"\"},\"colorscale\":[[0.0,\"#0d0887\"],[0.1111111111111111,\"#46039f\"],[0.2222222222222222,\"#7201a8\"],[0.3333333333333333,\"#9c179e\"],[0.4444444444444444,\"#bd3786\"],[0.5555555555555556,\"#d8576b\"],[0.6666666666666666,\"#ed7953\"],[0.7777777777777778,\"#fb9f3a\"],[0.8888888888888888,\"#fdca26\"],[1.0,\"#f0f921\"]],\"type\":\"contour\"}],\"contourcarpet\":[{\"colorbar\":{\"outlinewidth\":0,\"ticks\":\"\"},\"type\":\"contourcarpet\"}],\"heatmap\":[{\"colorbar\":{\"outlinewidth\":0,\"ticks\":\"\"},\"colorscale\":[[0.0,\"#0d0887\"],[0.1111111111111111,\"#46039f\"],[0.2222222222222222,\"#7201a8\"],[0.3333333333333333,\"#9c179e\"],[0.4444444444444444,\"#bd3786\"],[0.5555555555555556,\"#d8576b\"],[0.6666666666666666,\"#ed7953\"],[0.7777777777777778,\"#fb9f3a\"],[0.8888888888888888,\"#fdca26\"],[1.0,\"#f0f921\"]],\"type\":\"heatmap\"}],\"heatmapgl\":[{\"colorbar\":{\"outlinewidth\":0,\"ticks\":\"\"},\"colorscale\":[[0.0,\"#0d0887\"],[0.1111111111111111,\"#46039f\"],[0.2222222222222222,\"#7201a8\"],[0.3333333333333333,\"#9c179e\"],[0.4444444444444444,\"#bd3786\"],[0.5555555555555556,\"#d8576b\"],[0.6666666666666666,\"#ed7953\"],[0.7777777777777778,\"#fb9f3a\"],[0.8888888888888888,\"#fdca26\"],[1.0,\"#f0f921\"]],\"type\":\"heatmapgl\"}],\"histogram\":[{\"marker\":{\"pattern\":{\"fillmode\":\"overlay\",\"size\":10,\"solidity\":0.2}},\"type\":\"histogram\"}],\"histogram2d\":[{\"colorbar\":{\"outlinewidth\":0,\"ticks\":\"\"},\"colorscale\":[[0.0,\"#0d0887\"],[0.1111111111111111,\"#46039f\"],[0.2222222222222222,\"#7201a8\"],[0.3333333333333333,\"#9c179e\"],[0.4444444444444444,\"#bd3786\"],[0.5555555555555556,\"#d8576b\"],[0.6666666666666666,\"#ed7953\"],[0.7777777777777778,\"#fb9f3a\"],[0.8888888888888888,\"#fdca26\"],[1.0,\"#f0f921\"]],\"type\":\"histogram2d\"}],\"histogram2dcontour\":[{\"colorbar\":{\"outlinewidth\":0,\"ticks\":\"\"},\"colorscale\":[[0.0,\"#0d0887\"],[0.1111111111111111,\"#46039f\"],[0.2222222222222222,\"#7201a8\"],[0.3333333333333333,\"#9c179e\"],[0.4444444444444444,\"#bd3786\"],[0.5555555555555556,\"#d8576b\"],[0.6666666666666666,\"#ed7953\"],[0.7777777777777778,\"#fb9f3a\"],[0.8888888888888888,\"#fdca26\"],[1.0,\"#f0f921\"]],\"type\":\"histogram2dcontour\"}],\"mesh3d\":[{\"colorbar\":{\"outlinewidth\":0,\"ticks\":\"\"},\"type\":\"mesh3d\"}],\"parcoords\":[{\"line\":{\"colorbar\":{\"outlinewidth\":0,\"ticks\":\"\"}},\"type\":\"parcoords\"}],\"pie\":[{\"automargin\":true,\"type\":\"pie\"}],\"scatter\":[{\"marker\":{\"colorbar\":{\"outlinewidth\":0,\"ticks\":\"\"}},\"type\":\"scatter\"}],\"scatter3d\":[{\"line\":{\"colorbar\":{\"outlinewidth\":0,\"ticks\":\"\"}},\"marker\":{\"colorbar\":{\"outlinewidth\":0,\"ticks\":\"\"}},\"type\":\"scatter3d\"}],\"scattercarpet\":[{\"marker\":{\"colorbar\":{\"outlinewidth\":0,\"ticks\":\"\"}},\"type\":\"scattercarpet\"}],\"scattergeo\":[{\"marker\":{\"colorbar\":{\"outlinewidth\":0,\"ticks\":\"\"}},\"type\":\"scattergeo\"}],\"scattergl\":[{\"marker\":{\"colorbar\":{\"outlinewidth\":0,\"ticks\":\"\"}},\"type\":\"scattergl\"}],\"scattermapbox\":[{\"marker\":{\"colorbar\":{\"outlinewidth\":0,\"ticks\":\"\"}},\"type\":\"scattermapbox\"}],\"scatterpolar\":[{\"marker\":{\"colorbar\":{\"outlinewidth\":0,\"ticks\":\"\"}},\"type\":\"scatterpolar\"}],\"scatterpolargl\":[{\"marker\":{\"colorbar\":{\"outlinewidth\":0,\"ticks\":\"\"}},\"type\":\"scatterpolargl\"}],\"scatterternary\":[{\"marker\":{\"colorbar\":{\"outlinewidth\":0,\"ticks\":\"\"}},\"type\":\"scatterternary\"}],\"surface\":[{\"colorbar\":{\"outlinewidth\":0,\"ticks\":\"\"},\"colorscale\":[[0.0,\"#0d0887\"],[0.1111111111111111,\"#46039f\"],[0.2222222222222222,\"#7201a8\"],[0.3333333333333333,\"#9c179e\"],[0.4444444444444444,\"#bd3786\"],[0.5555555555555556,\"#d8576b\"],[0.6666666666666666,\"#ed7953\"],[0.7777777777777778,\"#fb9f3a\"],[0.8888888888888888,\"#fdca26\"],[1.0,\"#f0f921\"]],\"type\":\"surface\"}],\"table\":[{\"cells\":{\"fill\":{\"color\":\"#EBF0F8\"},\"line\":{\"color\":\"white\"}},\"header\":{\"fill\":{\"color\":\"#C8D4E3\"},\"line\":{\"color\":\"white\"}},\"type\":\"table\"}]},\"layout\":{\"annotationdefaults\":{\"arrowcolor\":\"#2a3f5f\",\"arrowhead\":0,\"arrowwidth\":1},\"autotypenumbers\":\"strict\",\"coloraxis\":{\"colorbar\":{\"outlinewidth\":0,\"ticks\":\"\"}},\"colorscale\":{\"diverging\":[[0,\"#8e0152\"],[0.1,\"#c51b7d\"],[0.2,\"#de77ae\"],[0.3,\"#f1b6da\"],[0.4,\"#fde0ef\"],[0.5,\"#f7f7f7\"],[0.6,\"#e6f5d0\"],[0.7,\"#b8e186\"],[0.8,\"#7fbc41\"],[0.9,\"#4d9221\"],[1,\"#276419\"]],\"sequential\":[[0.0,\"#0d0887\"],[0.1111111111111111,\"#46039f\"],[0.2222222222222222,\"#7201a8\"],[0.3333333333333333,\"#9c179e\"],[0.4444444444444444,\"#bd3786\"],[0.5555555555555556,\"#d8576b\"],[0.6666666666666666,\"#ed7953\"],[0.7777777777777778,\"#fb9f3a\"],[0.8888888888888888,\"#fdca26\"],[1.0,\"#f0f921\"]],\"sequentialminus\":[[0.0,\"#0d0887\"],[0.1111111111111111,\"#46039f\"],[0.2222222222222222,\"#7201a8\"],[0.3333333333333333,\"#9c179e\"],[0.4444444444444444,\"#bd3786\"],[0.5555555555555556,\"#d8576b\"],[0.6666666666666666,\"#ed7953\"],[0.7777777777777778,\"#fb9f3a\"],[0.8888888888888888,\"#fdca26\"],[1.0,\"#f0f921\"]]},\"colorway\":[\"#636efa\",\"#EF553B\",\"#00cc96\",\"#ab63fa\",\"#FFA15A\",\"#19d3f3\",\"#FF6692\",\"#B6E880\",\"#FF97FF\",\"#FECB52\"],\"font\":{\"color\":\"#2a3f5f\"},\"geo\":{\"bgcolor\":\"white\",\"lakecolor\":\"white\",\"landcolor\":\"#E5ECF6\",\"showlakes\":true,\"showland\":true,\"subunitcolor\":\"white\"},\"hoverlabel\":{\"align\":\"left\"},\"hovermode\":\"closest\",\"mapbox\":{\"style\":\"light\"},\"paper_bgcolor\":\"white\",\"plot_bgcolor\":\"#E5ECF6\",\"polar\":{\"angularaxis\":{\"gridcolor\":\"white\",\"linecolor\":\"white\",\"ticks\":\"\"},\"bgcolor\":\"#E5ECF6\",\"radialaxis\":{\"gridcolor\":\"white\",\"linecolor\":\"white\",\"ticks\":\"\"}},\"scene\":{\"xaxis\":{\"backgroundcolor\":\"#E5ECF6\",\"gridcolor\":\"white\",\"gridwidth\":2,\"linecolor\":\"white\",\"showbackground\":true,\"ticks\":\"\",\"zerolinecolor\":\"white\"},\"yaxis\":{\"backgroundcolor\":\"#E5ECF6\",\"gridcolor\":\"white\",\"gridwidth\":2,\"linecolor\":\"white\",\"showbackground\":true,\"ticks\":\"\",\"zerolinecolor\":\"white\"},\"zaxis\":{\"backgroundcolor\":\"#E5ECF6\",\"gridcolor\":\"white\",\"gridwidth\":2,\"linecolor\":\"white\",\"showbackground\":true,\"ticks\":\"\",\"zerolinecolor\":\"white\"}},\"shapedefaults\":{\"line\":{\"color\":\"#2a3f5f\"}},\"ternary\":{\"aaxis\":{\"gridcolor\":\"white\",\"linecolor\":\"white\",\"ticks\":\"\"},\"baxis\":{\"gridcolor\":\"white\",\"linecolor\":\"white\",\"ticks\":\"\"},\"bgcolor\":\"#E5ECF6\",\"caxis\":{\"gridcolor\":\"white\",\"linecolor\":\"white\",\"ticks\":\"\"}},\"title\":{\"x\":0.05},\"xaxis\":{\"automargin\":true,\"gridcolor\":\"white\",\"linecolor\":\"white\",\"ticks\":\"\",\"title\":{\"standoff\":15},\"zerolinecolor\":\"white\",\"zerolinewidth\":2},\"yaxis\":{\"automargin\":true,\"gridcolor\":\"white\",\"linecolor\":\"white\",\"ticks\":\"\",\"title\":{\"standoff\":15},\"zerolinecolor\":\"white\",\"zerolinewidth\":2}}},\"xaxis\":{\"anchor\":\"y\",\"domain\":[0.0,1.0],\"title\":{\"text\":\"x\"}},\"yaxis\":{\"anchor\":\"x\",\"domain\":[0.0,1.0],\"title\":{\"text\":\"value\"}},\"legend\":{\"title\":{\"text\":\"variable\"},\"tracegroupgap\":0},\"title\":{\"text\":\"label 10 =518.3267118148606\"},\"height\":400,\"width\":1000},                        {\"responsive\": true}                    ).then(function(){\n",
              "                            \n",
              "var gd = document.getElementById('9c203fd5-bcd7-492e-bbad-d6e6a450f03b');\n",
              "var x = new MutationObserver(function (mutations, observer) {{\n",
              "        var display = window.getComputedStyle(gd).display;\n",
              "        if (!display || display === 'none') {{\n",
              "            console.log([gd, 'removed!']);\n",
              "            Plotly.purge(gd);\n",
              "            observer.disconnect();\n",
              "        }}\n",
              "}});\n",
              "\n",
              "// Listen for the removal of the full notebook cells\n",
              "var notebookContainer = gd.closest('#notebook-container');\n",
              "if (notebookContainer) {{\n",
              "    x.observe(notebookContainer, {childList: true});\n",
              "}}\n",
              "\n",
              "// Listen for the clearing of the current output cell\n",
              "var outputEl = gd.closest('.output');\n",
              "if (outputEl) {{\n",
              "    x.observe(outputEl, {childList: true});\n",
              "}}\n",
              "\n",
              "                        })                };                            </script>        </div>\n",
              "</body>\n",
              "</html>"
            ]
          },
          "metadata": {}
        },
        {
          "output_type": "display_data",
          "data": {
            "text/html": [
              "<html>\n",
              "<head><meta charset=\"utf-8\" /></head>\n",
              "<body>\n",
              "    <div>            <script src=\"https://cdnjs.cloudflare.com/ajax/libs/mathjax/2.7.5/MathJax.js?config=TeX-AMS-MML_SVG\"></script><script type=\"text/javascript\">if (window.MathJax) {MathJax.Hub.Config({SVG: {font: \"STIX-Web\"}});}</script>                <script type=\"text/javascript\">window.PlotlyConfig = {MathJaxConfig: 'local'};</script>\n",
              "        <script src=\"https://cdn.plot.ly/plotly-2.8.3.min.js\"></script>                <div id=\"56ca0d74-b3f2-47ef-af0c-4d6ca548dd91\" class=\"plotly-graph-div\" style=\"height:400px; width:1000px;\"></div>            <script type=\"text/javascript\">                                    window.PLOTLYENV=window.PLOTLYENV || {};                                    if (document.getElementById(\"56ca0d74-b3f2-47ef-af0c-4d6ca548dd91\")) {                    Plotly.newPlot(                        \"56ca0d74-b3f2-47ef-af0c-4d6ca548dd91\",                        [{\"hovertemplate\":\"variable=wide_variable_0<br>x=%{x}<br>value=%{y}<extra></extra>\",\"legendgroup\":\"wide_variable_0\",\"line\":{\"color\":\"#636efa\",\"dash\":\"solid\"},\"marker\":{\"symbol\":\"circle\"},\"mode\":\"lines\",\"name\":\"wide_variable_0\",\"orientation\":\"v\",\"showlegend\":true,\"x\":[1,2,3,4,5,6,7,8,9,10],\"xaxis\":\"x\",\"y\":[512.5032706533226,513.7257944140008,524.8900974552004,516.9216577399686,519.859598844829,518.1049080306318,519.8459307885938,519.5563753253542,520.1224003025335,518.3267118148606],\"yaxis\":\"y\",\"type\":\"scatter\"}],                        {\"template\":{\"data\":{\"bar\":[{\"error_x\":{\"color\":\"#2a3f5f\"},\"error_y\":{\"color\":\"#2a3f5f\"},\"marker\":{\"line\":{\"color\":\"#E5ECF6\",\"width\":0.5},\"pattern\":{\"fillmode\":\"overlay\",\"size\":10,\"solidity\":0.2}},\"type\":\"bar\"}],\"barpolar\":[{\"marker\":{\"line\":{\"color\":\"#E5ECF6\",\"width\":0.5},\"pattern\":{\"fillmode\":\"overlay\",\"size\":10,\"solidity\":0.2}},\"type\":\"barpolar\"}],\"carpet\":[{\"aaxis\":{\"endlinecolor\":\"#2a3f5f\",\"gridcolor\":\"white\",\"linecolor\":\"white\",\"minorgridcolor\":\"white\",\"startlinecolor\":\"#2a3f5f\"},\"baxis\":{\"endlinecolor\":\"#2a3f5f\",\"gridcolor\":\"white\",\"linecolor\":\"white\",\"minorgridcolor\":\"white\",\"startlinecolor\":\"#2a3f5f\"},\"type\":\"carpet\"}],\"choropleth\":[{\"colorbar\":{\"outlinewidth\":0,\"ticks\":\"\"},\"type\":\"choropleth\"}],\"contour\":[{\"colorbar\":{\"outlinewidth\":0,\"ticks\":\"\"},\"colorscale\":[[0.0,\"#0d0887\"],[0.1111111111111111,\"#46039f\"],[0.2222222222222222,\"#7201a8\"],[0.3333333333333333,\"#9c179e\"],[0.4444444444444444,\"#bd3786\"],[0.5555555555555556,\"#d8576b\"],[0.6666666666666666,\"#ed7953\"],[0.7777777777777778,\"#fb9f3a\"],[0.8888888888888888,\"#fdca26\"],[1.0,\"#f0f921\"]],\"type\":\"contour\"}],\"contourcarpet\":[{\"colorbar\":{\"outlinewidth\":0,\"ticks\":\"\"},\"type\":\"contourcarpet\"}],\"heatmap\":[{\"colorbar\":{\"outlinewidth\":0,\"ticks\":\"\"},\"colorscale\":[[0.0,\"#0d0887\"],[0.1111111111111111,\"#46039f\"],[0.2222222222222222,\"#7201a8\"],[0.3333333333333333,\"#9c179e\"],[0.4444444444444444,\"#bd3786\"],[0.5555555555555556,\"#d8576b\"],[0.6666666666666666,\"#ed7953\"],[0.7777777777777778,\"#fb9f3a\"],[0.8888888888888888,\"#fdca26\"],[1.0,\"#f0f921\"]],\"type\":\"heatmap\"}],\"heatmapgl\":[{\"colorbar\":{\"outlinewidth\":0,\"ticks\":\"\"},\"colorscale\":[[0.0,\"#0d0887\"],[0.1111111111111111,\"#46039f\"],[0.2222222222222222,\"#7201a8\"],[0.3333333333333333,\"#9c179e\"],[0.4444444444444444,\"#bd3786\"],[0.5555555555555556,\"#d8576b\"],[0.6666666666666666,\"#ed7953\"],[0.7777777777777778,\"#fb9f3a\"],[0.8888888888888888,\"#fdca26\"],[1.0,\"#f0f921\"]],\"type\":\"heatmapgl\"}],\"histogram\":[{\"marker\":{\"pattern\":{\"fillmode\":\"overlay\",\"size\":10,\"solidity\":0.2}},\"type\":\"histogram\"}],\"histogram2d\":[{\"colorbar\":{\"outlinewidth\":0,\"ticks\":\"\"},\"colorscale\":[[0.0,\"#0d0887\"],[0.1111111111111111,\"#46039f\"],[0.2222222222222222,\"#7201a8\"],[0.3333333333333333,\"#9c179e\"],[0.4444444444444444,\"#bd3786\"],[0.5555555555555556,\"#d8576b\"],[0.6666666666666666,\"#ed7953\"],[0.7777777777777778,\"#fb9f3a\"],[0.8888888888888888,\"#fdca26\"],[1.0,\"#f0f921\"]],\"type\":\"histogram2d\"}],\"histogram2dcontour\":[{\"colorbar\":{\"outlinewidth\":0,\"ticks\":\"\"},\"colorscale\":[[0.0,\"#0d0887\"],[0.1111111111111111,\"#46039f\"],[0.2222222222222222,\"#7201a8\"],[0.3333333333333333,\"#9c179e\"],[0.4444444444444444,\"#bd3786\"],[0.5555555555555556,\"#d8576b\"],[0.6666666666666666,\"#ed7953\"],[0.7777777777777778,\"#fb9f3a\"],[0.8888888888888888,\"#fdca26\"],[1.0,\"#f0f921\"]],\"type\":\"histogram2dcontour\"}],\"mesh3d\":[{\"colorbar\":{\"outlinewidth\":0,\"ticks\":\"\"},\"type\":\"mesh3d\"}],\"parcoords\":[{\"line\":{\"colorbar\":{\"outlinewidth\":0,\"ticks\":\"\"}},\"type\":\"parcoords\"}],\"pie\":[{\"automargin\":true,\"type\":\"pie\"}],\"scatter\":[{\"marker\":{\"colorbar\":{\"outlinewidth\":0,\"ticks\":\"\"}},\"type\":\"scatter\"}],\"scatter3d\":[{\"line\":{\"colorbar\":{\"outlinewidth\":0,\"ticks\":\"\"}},\"marker\":{\"colorbar\":{\"outlinewidth\":0,\"ticks\":\"\"}},\"type\":\"scatter3d\"}],\"scattercarpet\":[{\"marker\":{\"colorbar\":{\"outlinewidth\":0,\"ticks\":\"\"}},\"type\":\"scattercarpet\"}],\"scattergeo\":[{\"marker\":{\"colorbar\":{\"outlinewidth\":0,\"ticks\":\"\"}},\"type\":\"scattergeo\"}],\"scattergl\":[{\"marker\":{\"colorbar\":{\"outlinewidth\":0,\"ticks\":\"\"}},\"type\":\"scattergl\"}],\"scattermapbox\":[{\"marker\":{\"colorbar\":{\"outlinewidth\":0,\"ticks\":\"\"}},\"type\":\"scattermapbox\"}],\"scatterpolar\":[{\"marker\":{\"colorbar\":{\"outlinewidth\":0,\"ticks\":\"\"}},\"type\":\"scatterpolar\"}],\"scatterpolargl\":[{\"marker\":{\"colorbar\":{\"outlinewidth\":0,\"ticks\":\"\"}},\"type\":\"scatterpolargl\"}],\"scatterternary\":[{\"marker\":{\"colorbar\":{\"outlinewidth\":0,\"ticks\":\"\"}},\"type\":\"scatterternary\"}],\"surface\":[{\"colorbar\":{\"outlinewidth\":0,\"ticks\":\"\"},\"colorscale\":[[0.0,\"#0d0887\"],[0.1111111111111111,\"#46039f\"],[0.2222222222222222,\"#7201a8\"],[0.3333333333333333,\"#9c179e\"],[0.4444444444444444,\"#bd3786\"],[0.5555555555555556,\"#d8576b\"],[0.6666666666666666,\"#ed7953\"],[0.7777777777777778,\"#fb9f3a\"],[0.8888888888888888,\"#fdca26\"],[1.0,\"#f0f921\"]],\"type\":\"surface\"}],\"table\":[{\"cells\":{\"fill\":{\"color\":\"#EBF0F8\"},\"line\":{\"color\":\"white\"}},\"header\":{\"fill\":{\"color\":\"#C8D4E3\"},\"line\":{\"color\":\"white\"}},\"type\":\"table\"}]},\"layout\":{\"annotationdefaults\":{\"arrowcolor\":\"#2a3f5f\",\"arrowhead\":0,\"arrowwidth\":1},\"autotypenumbers\":\"strict\",\"coloraxis\":{\"colorbar\":{\"outlinewidth\":0,\"ticks\":\"\"}},\"colorscale\":{\"diverging\":[[0,\"#8e0152\"],[0.1,\"#c51b7d\"],[0.2,\"#de77ae\"],[0.3,\"#f1b6da\"],[0.4,\"#fde0ef\"],[0.5,\"#f7f7f7\"],[0.6,\"#e6f5d0\"],[0.7,\"#b8e186\"],[0.8,\"#7fbc41\"],[0.9,\"#4d9221\"],[1,\"#276419\"]],\"sequential\":[[0.0,\"#0d0887\"],[0.1111111111111111,\"#46039f\"],[0.2222222222222222,\"#7201a8\"],[0.3333333333333333,\"#9c179e\"],[0.4444444444444444,\"#bd3786\"],[0.5555555555555556,\"#d8576b\"],[0.6666666666666666,\"#ed7953\"],[0.7777777777777778,\"#fb9f3a\"],[0.8888888888888888,\"#fdca26\"],[1.0,\"#f0f921\"]],\"sequentialminus\":[[0.0,\"#0d0887\"],[0.1111111111111111,\"#46039f\"],[0.2222222222222222,\"#7201a8\"],[0.3333333333333333,\"#9c179e\"],[0.4444444444444444,\"#bd3786\"],[0.5555555555555556,\"#d8576b\"],[0.6666666666666666,\"#ed7953\"],[0.7777777777777778,\"#fb9f3a\"],[0.8888888888888888,\"#fdca26\"],[1.0,\"#f0f921\"]]},\"colorway\":[\"#636efa\",\"#EF553B\",\"#00cc96\",\"#ab63fa\",\"#FFA15A\",\"#19d3f3\",\"#FF6692\",\"#B6E880\",\"#FF97FF\",\"#FECB52\"],\"font\":{\"color\":\"#2a3f5f\"},\"geo\":{\"bgcolor\":\"white\",\"lakecolor\":\"white\",\"landcolor\":\"#E5ECF6\",\"showlakes\":true,\"showland\":true,\"subunitcolor\":\"white\"},\"hoverlabel\":{\"align\":\"left\"},\"hovermode\":\"closest\",\"mapbox\":{\"style\":\"light\"},\"paper_bgcolor\":\"white\",\"plot_bgcolor\":\"#E5ECF6\",\"polar\":{\"angularaxis\":{\"gridcolor\":\"white\",\"linecolor\":\"white\",\"ticks\":\"\"},\"bgcolor\":\"#E5ECF6\",\"radialaxis\":{\"gridcolor\":\"white\",\"linecolor\":\"white\",\"ticks\":\"\"}},\"scene\":{\"xaxis\":{\"backgroundcolor\":\"#E5ECF6\",\"gridcolor\":\"white\",\"gridwidth\":2,\"linecolor\":\"white\",\"showbackground\":true,\"ticks\":\"\",\"zerolinecolor\":\"white\"},\"yaxis\":{\"backgroundcolor\":\"#E5ECF6\",\"gridcolor\":\"white\",\"gridwidth\":2,\"linecolor\":\"white\",\"showbackground\":true,\"ticks\":\"\",\"zerolinecolor\":\"white\"},\"zaxis\":{\"backgroundcolor\":\"#E5ECF6\",\"gridcolor\":\"white\",\"gridwidth\":2,\"linecolor\":\"white\",\"showbackground\":true,\"ticks\":\"\",\"zerolinecolor\":\"white\"}},\"shapedefaults\":{\"line\":{\"color\":\"#2a3f5f\"}},\"ternary\":{\"aaxis\":{\"gridcolor\":\"white\",\"linecolor\":\"white\",\"ticks\":\"\"},\"baxis\":{\"gridcolor\":\"white\",\"linecolor\":\"white\",\"ticks\":\"\"},\"bgcolor\":\"#E5ECF6\",\"caxis\":{\"gridcolor\":\"white\",\"linecolor\":\"white\",\"ticks\":\"\"}},\"title\":{\"x\":0.05},\"xaxis\":{\"automargin\":true,\"gridcolor\":\"white\",\"linecolor\":\"white\",\"ticks\":\"\",\"title\":{\"standoff\":15},\"zerolinecolor\":\"white\",\"zerolinewidth\":2},\"yaxis\":{\"automargin\":true,\"gridcolor\":\"white\",\"linecolor\":\"white\",\"ticks\":\"\",\"title\":{\"standoff\":15},\"zerolinecolor\":\"white\",\"zerolinewidth\":2}}},\"xaxis\":{\"anchor\":\"y\",\"domain\":[0.0,1.0],\"title\":{\"text\":\"x\"}},\"yaxis\":{\"anchor\":\"x\",\"domain\":[0.0,1.0],\"title\":{\"text\":\"value\"}},\"legend\":{\"title\":{\"text\":\"variable\"},\"tracegroupgap\":0},\"title\":{\"text\":\"label 11 =507.7925058783651\"},\"height\":400,\"width\":1000},                        {\"responsive\": true}                    ).then(function(){\n",
              "                            \n",
              "var gd = document.getElementById('56ca0d74-b3f2-47ef-af0c-4d6ca548dd91');\n",
              "var x = new MutationObserver(function (mutations, observer) {{\n",
              "        var display = window.getComputedStyle(gd).display;\n",
              "        if (!display || display === 'none') {{\n",
              "            console.log([gd, 'removed!']);\n",
              "            Plotly.purge(gd);\n",
              "            observer.disconnect();\n",
              "        }}\n",
              "}});\n",
              "\n",
              "// Listen for the removal of the full notebook cells\n",
              "var notebookContainer = gd.closest('#notebook-container');\n",
              "if (notebookContainer) {{\n",
              "    x.observe(notebookContainer, {childList: true});\n",
              "}}\n",
              "\n",
              "// Listen for the clearing of the current output cell\n",
              "var outputEl = gd.closest('.output');\n",
              "if (outputEl) {{\n",
              "    x.observe(outputEl, {childList: true});\n",
              "}}\n",
              "\n",
              "                        })                };                            </script>        </div>\n",
              "</body>\n",
              "</html>"
            ]
          },
          "metadata": {}
        },
        {
          "output_type": "display_data",
          "data": {
            "text/html": [
              "<html>\n",
              "<head><meta charset=\"utf-8\" /></head>\n",
              "<body>\n",
              "    <div>            <script src=\"https://cdnjs.cloudflare.com/ajax/libs/mathjax/2.7.5/MathJax.js?config=TeX-AMS-MML_SVG\"></script><script type=\"text/javascript\">if (window.MathJax) {MathJax.Hub.Config({SVG: {font: \"STIX-Web\"}});}</script>                <script type=\"text/javascript\">window.PlotlyConfig = {MathJaxConfig: 'local'};</script>\n",
              "        <script src=\"https://cdn.plot.ly/plotly-2.8.3.min.js\"></script>                <div id=\"66f3ff24-a61d-4c69-8d01-3be5bcf4e063\" class=\"plotly-graph-div\" style=\"height:400px; width:1000px;\"></div>            <script type=\"text/javascript\">                                    window.PLOTLYENV=window.PLOTLYENV || {};                                    if (document.getElementById(\"66f3ff24-a61d-4c69-8d01-3be5bcf4e063\")) {                    Plotly.newPlot(                        \"66f3ff24-a61d-4c69-8d01-3be5bcf4e063\",                        [{\"hovertemplate\":\"variable=wide_variable_0<br>x=%{x}<br>value=%{y}<extra></extra>\",\"legendgroup\":\"wide_variable_0\",\"line\":{\"color\":\"#636efa\",\"dash\":\"solid\"},\"marker\":{\"symbol\":\"circle\"},\"mode\":\"lines\",\"name\":\"wide_variable_0\",\"orientation\":\"v\",\"showlegend\":true,\"x\":[2,3,4,5,6,7,8,9,10,11],\"xaxis\":\"x\",\"y\":[513.7257944140008,524.8900974552004,516.9216577399686,519.859598844829,518.1049080306318,519.8459307885938,519.5563753253542,520.1224003025335,518.3267118148606,507.7925058783651],\"yaxis\":\"y\",\"type\":\"scatter\"}],                        {\"template\":{\"data\":{\"bar\":[{\"error_x\":{\"color\":\"#2a3f5f\"},\"error_y\":{\"color\":\"#2a3f5f\"},\"marker\":{\"line\":{\"color\":\"#E5ECF6\",\"width\":0.5},\"pattern\":{\"fillmode\":\"overlay\",\"size\":10,\"solidity\":0.2}},\"type\":\"bar\"}],\"barpolar\":[{\"marker\":{\"line\":{\"color\":\"#E5ECF6\",\"width\":0.5},\"pattern\":{\"fillmode\":\"overlay\",\"size\":10,\"solidity\":0.2}},\"type\":\"barpolar\"}],\"carpet\":[{\"aaxis\":{\"endlinecolor\":\"#2a3f5f\",\"gridcolor\":\"white\",\"linecolor\":\"white\",\"minorgridcolor\":\"white\",\"startlinecolor\":\"#2a3f5f\"},\"baxis\":{\"endlinecolor\":\"#2a3f5f\",\"gridcolor\":\"white\",\"linecolor\":\"white\",\"minorgridcolor\":\"white\",\"startlinecolor\":\"#2a3f5f\"},\"type\":\"carpet\"}],\"choropleth\":[{\"colorbar\":{\"outlinewidth\":0,\"ticks\":\"\"},\"type\":\"choropleth\"}],\"contour\":[{\"colorbar\":{\"outlinewidth\":0,\"ticks\":\"\"},\"colorscale\":[[0.0,\"#0d0887\"],[0.1111111111111111,\"#46039f\"],[0.2222222222222222,\"#7201a8\"],[0.3333333333333333,\"#9c179e\"],[0.4444444444444444,\"#bd3786\"],[0.5555555555555556,\"#d8576b\"],[0.6666666666666666,\"#ed7953\"],[0.7777777777777778,\"#fb9f3a\"],[0.8888888888888888,\"#fdca26\"],[1.0,\"#f0f921\"]],\"type\":\"contour\"}],\"contourcarpet\":[{\"colorbar\":{\"outlinewidth\":0,\"ticks\":\"\"},\"type\":\"contourcarpet\"}],\"heatmap\":[{\"colorbar\":{\"outlinewidth\":0,\"ticks\":\"\"},\"colorscale\":[[0.0,\"#0d0887\"],[0.1111111111111111,\"#46039f\"],[0.2222222222222222,\"#7201a8\"],[0.3333333333333333,\"#9c179e\"],[0.4444444444444444,\"#bd3786\"],[0.5555555555555556,\"#d8576b\"],[0.6666666666666666,\"#ed7953\"],[0.7777777777777778,\"#fb9f3a\"],[0.8888888888888888,\"#fdca26\"],[1.0,\"#f0f921\"]],\"type\":\"heatmap\"}],\"heatmapgl\":[{\"colorbar\":{\"outlinewidth\":0,\"ticks\":\"\"},\"colorscale\":[[0.0,\"#0d0887\"],[0.1111111111111111,\"#46039f\"],[0.2222222222222222,\"#7201a8\"],[0.3333333333333333,\"#9c179e\"],[0.4444444444444444,\"#bd3786\"],[0.5555555555555556,\"#d8576b\"],[0.6666666666666666,\"#ed7953\"],[0.7777777777777778,\"#fb9f3a\"],[0.8888888888888888,\"#fdca26\"],[1.0,\"#f0f921\"]],\"type\":\"heatmapgl\"}],\"histogram\":[{\"marker\":{\"pattern\":{\"fillmode\":\"overlay\",\"size\":10,\"solidity\":0.2}},\"type\":\"histogram\"}],\"histogram2d\":[{\"colorbar\":{\"outlinewidth\":0,\"ticks\":\"\"},\"colorscale\":[[0.0,\"#0d0887\"],[0.1111111111111111,\"#46039f\"],[0.2222222222222222,\"#7201a8\"],[0.3333333333333333,\"#9c179e\"],[0.4444444444444444,\"#bd3786\"],[0.5555555555555556,\"#d8576b\"],[0.6666666666666666,\"#ed7953\"],[0.7777777777777778,\"#fb9f3a\"],[0.8888888888888888,\"#fdca26\"],[1.0,\"#f0f921\"]],\"type\":\"histogram2d\"}],\"histogram2dcontour\":[{\"colorbar\":{\"outlinewidth\":0,\"ticks\":\"\"},\"colorscale\":[[0.0,\"#0d0887\"],[0.1111111111111111,\"#46039f\"],[0.2222222222222222,\"#7201a8\"],[0.3333333333333333,\"#9c179e\"],[0.4444444444444444,\"#bd3786\"],[0.5555555555555556,\"#d8576b\"],[0.6666666666666666,\"#ed7953\"],[0.7777777777777778,\"#fb9f3a\"],[0.8888888888888888,\"#fdca26\"],[1.0,\"#f0f921\"]],\"type\":\"histogram2dcontour\"}],\"mesh3d\":[{\"colorbar\":{\"outlinewidth\":0,\"ticks\":\"\"},\"type\":\"mesh3d\"}],\"parcoords\":[{\"line\":{\"colorbar\":{\"outlinewidth\":0,\"ticks\":\"\"}},\"type\":\"parcoords\"}],\"pie\":[{\"automargin\":true,\"type\":\"pie\"}],\"scatter\":[{\"marker\":{\"colorbar\":{\"outlinewidth\":0,\"ticks\":\"\"}},\"type\":\"scatter\"}],\"scatter3d\":[{\"line\":{\"colorbar\":{\"outlinewidth\":0,\"ticks\":\"\"}},\"marker\":{\"colorbar\":{\"outlinewidth\":0,\"ticks\":\"\"}},\"type\":\"scatter3d\"}],\"scattercarpet\":[{\"marker\":{\"colorbar\":{\"outlinewidth\":0,\"ticks\":\"\"}},\"type\":\"scattercarpet\"}],\"scattergeo\":[{\"marker\":{\"colorbar\":{\"outlinewidth\":0,\"ticks\":\"\"}},\"type\":\"scattergeo\"}],\"scattergl\":[{\"marker\":{\"colorbar\":{\"outlinewidth\":0,\"ticks\":\"\"}},\"type\":\"scattergl\"}],\"scattermapbox\":[{\"marker\":{\"colorbar\":{\"outlinewidth\":0,\"ticks\":\"\"}},\"type\":\"scattermapbox\"}],\"scatterpolar\":[{\"marker\":{\"colorbar\":{\"outlinewidth\":0,\"ticks\":\"\"}},\"type\":\"scatterpolar\"}],\"scatterpolargl\":[{\"marker\":{\"colorbar\":{\"outlinewidth\":0,\"ticks\":\"\"}},\"type\":\"scatterpolargl\"}],\"scatterternary\":[{\"marker\":{\"colorbar\":{\"outlinewidth\":0,\"ticks\":\"\"}},\"type\":\"scatterternary\"}],\"surface\":[{\"colorbar\":{\"outlinewidth\":0,\"ticks\":\"\"},\"colorscale\":[[0.0,\"#0d0887\"],[0.1111111111111111,\"#46039f\"],[0.2222222222222222,\"#7201a8\"],[0.3333333333333333,\"#9c179e\"],[0.4444444444444444,\"#bd3786\"],[0.5555555555555556,\"#d8576b\"],[0.6666666666666666,\"#ed7953\"],[0.7777777777777778,\"#fb9f3a\"],[0.8888888888888888,\"#fdca26\"],[1.0,\"#f0f921\"]],\"type\":\"surface\"}],\"table\":[{\"cells\":{\"fill\":{\"color\":\"#EBF0F8\"},\"line\":{\"color\":\"white\"}},\"header\":{\"fill\":{\"color\":\"#C8D4E3\"},\"line\":{\"color\":\"white\"}},\"type\":\"table\"}]},\"layout\":{\"annotationdefaults\":{\"arrowcolor\":\"#2a3f5f\",\"arrowhead\":0,\"arrowwidth\":1},\"autotypenumbers\":\"strict\",\"coloraxis\":{\"colorbar\":{\"outlinewidth\":0,\"ticks\":\"\"}},\"colorscale\":{\"diverging\":[[0,\"#8e0152\"],[0.1,\"#c51b7d\"],[0.2,\"#de77ae\"],[0.3,\"#f1b6da\"],[0.4,\"#fde0ef\"],[0.5,\"#f7f7f7\"],[0.6,\"#e6f5d0\"],[0.7,\"#b8e186\"],[0.8,\"#7fbc41\"],[0.9,\"#4d9221\"],[1,\"#276419\"]],\"sequential\":[[0.0,\"#0d0887\"],[0.1111111111111111,\"#46039f\"],[0.2222222222222222,\"#7201a8\"],[0.3333333333333333,\"#9c179e\"],[0.4444444444444444,\"#bd3786\"],[0.5555555555555556,\"#d8576b\"],[0.6666666666666666,\"#ed7953\"],[0.7777777777777778,\"#fb9f3a\"],[0.8888888888888888,\"#fdca26\"],[1.0,\"#f0f921\"]],\"sequentialminus\":[[0.0,\"#0d0887\"],[0.1111111111111111,\"#46039f\"],[0.2222222222222222,\"#7201a8\"],[0.3333333333333333,\"#9c179e\"],[0.4444444444444444,\"#bd3786\"],[0.5555555555555556,\"#d8576b\"],[0.6666666666666666,\"#ed7953\"],[0.7777777777777778,\"#fb9f3a\"],[0.8888888888888888,\"#fdca26\"],[1.0,\"#f0f921\"]]},\"colorway\":[\"#636efa\",\"#EF553B\",\"#00cc96\",\"#ab63fa\",\"#FFA15A\",\"#19d3f3\",\"#FF6692\",\"#B6E880\",\"#FF97FF\",\"#FECB52\"],\"font\":{\"color\":\"#2a3f5f\"},\"geo\":{\"bgcolor\":\"white\",\"lakecolor\":\"white\",\"landcolor\":\"#E5ECF6\",\"showlakes\":true,\"showland\":true,\"subunitcolor\":\"white\"},\"hoverlabel\":{\"align\":\"left\"},\"hovermode\":\"closest\",\"mapbox\":{\"style\":\"light\"},\"paper_bgcolor\":\"white\",\"plot_bgcolor\":\"#E5ECF6\",\"polar\":{\"angularaxis\":{\"gridcolor\":\"white\",\"linecolor\":\"white\",\"ticks\":\"\"},\"bgcolor\":\"#E5ECF6\",\"radialaxis\":{\"gridcolor\":\"white\",\"linecolor\":\"white\",\"ticks\":\"\"}},\"scene\":{\"xaxis\":{\"backgroundcolor\":\"#E5ECF6\",\"gridcolor\":\"white\",\"gridwidth\":2,\"linecolor\":\"white\",\"showbackground\":true,\"ticks\":\"\",\"zerolinecolor\":\"white\"},\"yaxis\":{\"backgroundcolor\":\"#E5ECF6\",\"gridcolor\":\"white\",\"gridwidth\":2,\"linecolor\":\"white\",\"showbackground\":true,\"ticks\":\"\",\"zerolinecolor\":\"white\"},\"zaxis\":{\"backgroundcolor\":\"#E5ECF6\",\"gridcolor\":\"white\",\"gridwidth\":2,\"linecolor\":\"white\",\"showbackground\":true,\"ticks\":\"\",\"zerolinecolor\":\"white\"}},\"shapedefaults\":{\"line\":{\"color\":\"#2a3f5f\"}},\"ternary\":{\"aaxis\":{\"gridcolor\":\"white\",\"linecolor\":\"white\",\"ticks\":\"\"},\"baxis\":{\"gridcolor\":\"white\",\"linecolor\":\"white\",\"ticks\":\"\"},\"bgcolor\":\"#E5ECF6\",\"caxis\":{\"gridcolor\":\"white\",\"linecolor\":\"white\",\"ticks\":\"\"}},\"title\":{\"x\":0.05},\"xaxis\":{\"automargin\":true,\"gridcolor\":\"white\",\"linecolor\":\"white\",\"ticks\":\"\",\"title\":{\"standoff\":15},\"zerolinecolor\":\"white\",\"zerolinewidth\":2},\"yaxis\":{\"automargin\":true,\"gridcolor\":\"white\",\"linecolor\":\"white\",\"ticks\":\"\",\"title\":{\"standoff\":15},\"zerolinecolor\":\"white\",\"zerolinewidth\":2}}},\"xaxis\":{\"anchor\":\"y\",\"domain\":[0.0,1.0],\"title\":{\"text\":\"x\"}},\"yaxis\":{\"anchor\":\"x\",\"domain\":[0.0,1.0],\"title\":{\"text\":\"value\"}},\"legend\":{\"title\":{\"text\":\"variable\"},\"tracegroupgap\":0},\"title\":{\"text\":\"label 12 =525.5804667858303\"},\"height\":400,\"width\":1000},                        {\"responsive\": true}                    ).then(function(){\n",
              "                            \n",
              "var gd = document.getElementById('66f3ff24-a61d-4c69-8d01-3be5bcf4e063');\n",
              "var x = new MutationObserver(function (mutations, observer) {{\n",
              "        var display = window.getComputedStyle(gd).display;\n",
              "        if (!display || display === 'none') {{\n",
              "            console.log([gd, 'removed!']);\n",
              "            Plotly.purge(gd);\n",
              "            observer.disconnect();\n",
              "        }}\n",
              "}});\n",
              "\n",
              "// Listen for the removal of the full notebook cells\n",
              "var notebookContainer = gd.closest('#notebook-container');\n",
              "if (notebookContainer) {{\n",
              "    x.observe(notebookContainer, {childList: true});\n",
              "}}\n",
              "\n",
              "// Listen for the clearing of the current output cell\n",
              "var outputEl = gd.closest('.output');\n",
              "if (outputEl) {{\n",
              "    x.observe(outputEl, {childList: true});\n",
              "}}\n",
              "\n",
              "                        })                };                            </script>        </div>\n",
              "</body>\n",
              "</html>"
            ]
          },
          "metadata": {}
        }
      ],
      "source": [
        "for i in range(3):\n",
        "    plot_series(time_xx[i],xx[i],title=f'label {time_yy[i]} ={yy[i]}')"
      ]
    },
    {
      "cell_type": "markdown",
      "source": [
        "可看出三串 windowed series具時間推移的關係"
      ],
      "metadata": {
        "id": "kaStNh_tZMkG"
      }
    },
    {
      "cell_type": "markdown",
      "metadata": {
        "id": "g8watwQTYRuQ"
      },
      "source": [
        "後面可以用tf.data.Dataset常用的一些 cache, prefetch等增加效率技巧\n",
        "\n",
        "並且對dataset作shuffle以及batch"
      ]
    },
    {
      "cell_type": "code",
      "execution_count": 76,
      "metadata": {
        "id": "apo-Oh6rYRuQ"
      },
      "outputs": [],
      "source": [
        "train_ds=win_ar_ds(series_train,size=10) #切time series\n",
        "train_loader=train_ds.cache().prefetch(-1).shuffle(1000).batch(16)"
      ]
    },
    {
      "cell_type": "markdown",
      "metadata": {
        "id": "ANLPj9GpYRuQ"
      },
      "source": [
        "所以訓練的framework大概就長這樣:"
      ]
    },
    {
      "cell_type": "code",
      "execution_count": 77,
      "metadata": {
        "colab": {
          "base_uri": "https://localhost:8080/"
        },
        "id": "YmCtUUAJYRuQ",
        "outputId": "58faa786-4675-4cfa-ff54-073845c0b2b0"
      },
      "outputs": [
        {
          "output_type": "stream",
          "name": "stdout",
          "text": [
            "x shape: (16, 10) <dtype: 'float64'>\n",
            "y shape: (16, 1) <dtype: 'float64'>\n"
          ]
        }
      ],
      "source": [
        "# run loader\n",
        "for x,y in train_loader:\n",
        "    # 1. 跑model\n",
        "    # 2. 計算loss\n",
        "    # 3. 更新模型\n",
        "    break\n",
        "print(\"x shape:\",x.shape,x.dtype)\n",
        "print(\"y shape:\",y.shape,y.dtype)"
      ]
    },
    {
      "cell_type": "markdown",
      "metadata": {
        "id": "d_KGjSwFYRuR"
      },
      "source": [
        "或一些處理time series的tf.keras.Model 可以使用model.fit:\n",
        "\n",
        "```model.fit(train_loader)```\n",
        "\n",
        "後面我們就來train一些可以train的model"
      ]
    },
    {
      "cell_type": "markdown",
      "metadata": {
        "id": "eMW3A0MOYRuR"
      },
      "source": [
        "## Compare to original Regression Data Loader"
      ]
    },
    {
      "cell_type": "markdown",
      "metadata": {
        "id": "25TImRjGYRuR"
      },
      "source": [
        "時間序列在預測時也可以混入各種不同序列，例如時間本身，或者一些sine，cosine訊號，\n",
        "\n",
        "只要認為具有提供資訊的價值都可以放進來，在迴歸時稱為regressor(迴歸因子)。\n",
        "\n",
        "相較於window-wise prediction, 最簡單的時間序列regression就沒有window，而是靠著已研究過的regressor來擬和時間序列"
      ]
    },
    {
      "cell_type": "code",
      "execution_count": 78,
      "metadata": {
        "id": "phRfULOYYRuR"
      },
      "outputs": [],
      "source": [
        "def regressor_ds(*regressors,series):\n",
        "    ## 輸出Window-wise Regressor Forcasting Dataset\n",
        "    ## Args:\n",
        "    #   regressors (arguments of array of float) - 多個迴歸因子，每個長度為T\n",
        "    #   series (array of float) - 預測對象，長度\n",
        "    ## Returns:\n",
        "    #   (tf.data.Dataset(母類名稱，切確type為TensorSliceDataset)) - 一次生regressors和time series的dataset\n",
        "    ds=tfd.Dataset.from_tensor_slices((np.stack(regressors,-1),series))\n",
        "    return ds"
      ]
    },
    {
      "cell_type": "code",
      "execution_count": 79,
      "metadata": {
        "id": "mfabzpTgYRuR"
      },
      "outputs": [],
      "source": [
        "cos_train=seasonality(time_train,180,40.,30,'cosine')\n",
        "triag_train=seasonality(time_train,180,40.,30,'triangle')\n",
        "\n",
        "train_ds_t=regressor_ds(time_train.astype(\"float64\"),\n",
        "                            cos_train,triag_train,series=series_train)"
      ]
    },
    {
      "cell_type": "code",
      "execution_count": 80,
      "metadata": {
        "colab": {
          "base_uri": "https://localhost:8080/",
          "height": 417
        },
        "id": "ckEiyQTeYRuS",
        "outputId": "8f0a5c1c-2de8-4ab4-e2e0-71cf8cf707a8"
      },
      "outputs": [
        {
          "output_type": "display_data",
          "data": {
            "text/html": [
              "<html>\n",
              "<head><meta charset=\"utf-8\" /></head>\n",
              "<body>\n",
              "    <div>            <script src=\"https://cdnjs.cloudflare.com/ajax/libs/mathjax/2.7.5/MathJax.js?config=TeX-AMS-MML_SVG\"></script><script type=\"text/javascript\">if (window.MathJax) {MathJax.Hub.Config({SVG: {font: \"STIX-Web\"}});}</script>                <script type=\"text/javascript\">window.PlotlyConfig = {MathJaxConfig: 'local'};</script>\n",
              "        <script src=\"https://cdn.plot.ly/plotly-2.8.3.min.js\"></script>                <div id=\"98f18ccf-4012-4365-81ac-cc126253b51d\" class=\"plotly-graph-div\" style=\"height:400px; width:1000px;\"></div>            <script type=\"text/javascript\">                                    window.PLOTLYENV=window.PLOTLYENV || {};                                    if (document.getElementById(\"98f18ccf-4012-4365-81ac-cc126253b51d\")) {                    Plotly.newPlot(                        \"98f18ccf-4012-4365-81ac-cc126253b51d\",                        [{\"hovertemplate\":\"variable=t<br>time=%{x}<br>value=%{y}<extra></extra>\",\"legendgroup\":\"t\",\"line\":{\"color\":\"#636efa\",\"dash\":\"solid\"},\"marker\":{\"symbol\":\"circle\"},\"mode\":\"lines\",\"name\":\"t\",\"showlegend\":true,\"x\":[360.0,361.0,362.0,363.0,364.0,365.0,366.0,367.0,368.0,369.0,370.0,371.0,372.0,373.0,374.0,375.0,376.0,377.0,378.0,379.0,380.0,381.0,382.0,383.0,384.0,385.0,386.0,387.0,388.0,389.0,390.0,391.0,392.0,393.0,394.0,395.0,396.0,397.0,398.0,399.0,400.0,401.0,402.0,403.0,404.0,405.0,406.0,407.0,408.0,409.0,410.0,411.0,412.0,413.0,414.0,415.0,416.0,417.0,418.0,419.0,420.0,421.0,422.0,423.0,424.0,425.0,426.0,427.0,428.0,429.0,430.0,431.0,432.0,433.0,434.0,435.0,436.0,437.0,438.0,439.0,440.0,441.0,442.0,443.0,444.0,445.0,446.0,447.0,448.0,449.0,450.0,451.0,452.0,453.0,454.0,455.0,456.0,457.0,458.0,459.0,460.0,461.0,462.0,463.0,464.0,465.0,466.0,467.0,468.0,469.0,470.0,471.0,472.0,473.0,474.0,475.0,476.0,477.0,478.0,479.0,480.0,481.0,482.0,483.0,484.0,485.0,486.0,487.0,488.0,489.0,490.0,491.0,492.0,493.0,494.0,495.0,496.0,497.0,498.0,499.0,500.0,501.0,502.0,503.0,504.0,505.0,506.0,507.0,508.0,509.0,510.0,511.0,512.0,513.0,514.0,515.0,516.0,517.0,518.0,519.0,520.0,521.0,522.0,523.0,524.0,525.0,526.0,527.0,528.0,529.0,530.0,531.0,532.0,533.0,534.0,535.0,536.0,537.0,538.0,539.0,540.0,541.0,542.0,543.0,544.0,545.0,546.0,547.0,548.0,549.0,550.0,551.0,552.0,553.0,554.0,555.0,556.0,557.0,558.0,559.0,560.0,561.0,562.0,563.0,564.0,565.0,566.0,567.0,568.0,569.0,570.0,571.0,572.0,573.0,574.0,575.0,576.0,577.0,578.0,579.0,580.0,581.0,582.0,583.0,584.0,585.0,586.0,587.0,588.0,589.0,590.0,591.0,592.0,593.0,594.0,595.0,596.0,597.0,598.0,599.0,600.0,601.0,602.0,603.0,604.0,605.0,606.0,607.0,608.0,609.0,610.0,611.0,612.0,613.0,614.0,615.0,616.0,617.0,618.0,619.0,620.0,621.0,622.0,623.0,624.0,625.0,626.0,627.0,628.0,629.0,630.0,631.0,632.0,633.0,634.0,635.0,636.0,637.0,638.0,639.0,640.0,641.0,642.0,643.0,644.0,645.0,646.0,647.0,648.0,649.0,650.0,651.0,652.0,653.0,654.0,655.0,656.0,657.0,658.0,659.0,660.0,661.0,662.0,663.0,664.0,665.0,666.0,667.0,668.0,669.0,670.0,671.0,672.0,673.0,674.0,675.0,676.0,677.0,678.0,679.0,680.0,681.0,682.0,683.0,684.0,685.0,686.0,687.0,688.0,689.0,690.0,691.0,692.0,693.0,694.0,695.0,696.0,697.0,698.0,699.0,700.0,701.0,702.0,703.0,704.0,705.0,706.0,707.0,708.0,709.0,710.0,711.0,712.0,713.0,714.0,715.0,716.0,717.0,718.0,719.0],\"xaxis\":\"x\",\"y\":[360.0,361.0,362.0,363.0,364.0,365.0,366.0,367.0,368.0,369.0,370.0,371.0,372.0,373.0,374.0,375.0,376.0,377.0,378.0,379.0,380.0,381.0,382.0,383.0,384.0,385.0,386.0,387.0,388.0,389.0,390.0,391.0,392.0,393.0,394.0,395.0,396.0,397.0,398.0,399.0,400.0,401.0,402.0,403.0,404.0,405.0,406.0,407.0,408.0,409.0,410.0,411.0,412.0,413.0,414.0,415.0,416.0,417.0,418.0,419.0,420.0,421.0,422.0,423.0,424.0,425.0,426.0,427.0,428.0,429.0,430.0,431.0,432.0,433.0,434.0,435.0,436.0,437.0,438.0,439.0,440.0,441.0,442.0,443.0,444.0,445.0,446.0,447.0,448.0,449.0,450.0,451.0,452.0,453.0,454.0,455.0,456.0,457.0,458.0,459.0,460.0,461.0,462.0,463.0,464.0,465.0,466.0,467.0,468.0,469.0,470.0,471.0,472.0,473.0,474.0,475.0,476.0,477.0,478.0,479.0,480.0,481.0,482.0,483.0,484.0,485.0,486.0,487.0,488.0,489.0,490.0,491.0,492.0,493.0,494.0,495.0,496.0,497.0,498.0,499.0,500.0,501.0,502.0,503.0,504.0,505.0,506.0,507.0,508.0,509.0,510.0,511.0,512.0,513.0,514.0,515.0,516.0,517.0,518.0,519.0,520.0,521.0,522.0,523.0,524.0,525.0,526.0,527.0,528.0,529.0,530.0,531.0,532.0,533.0,534.0,535.0,536.0,537.0,538.0,539.0,540.0,541.0,542.0,543.0,544.0,545.0,546.0,547.0,548.0,549.0,550.0,551.0,552.0,553.0,554.0,555.0,556.0,557.0,558.0,559.0,560.0,561.0,562.0,563.0,564.0,565.0,566.0,567.0,568.0,569.0,570.0,571.0,572.0,573.0,574.0,575.0,576.0,577.0,578.0,579.0,580.0,581.0,582.0,583.0,584.0,585.0,586.0,587.0,588.0,589.0,590.0,591.0,592.0,593.0,594.0,595.0,596.0,597.0,598.0,599.0,600.0,601.0,602.0,603.0,604.0,605.0,606.0,607.0,608.0,609.0,610.0,611.0,612.0,613.0,614.0,615.0,616.0,617.0,618.0,619.0,620.0,621.0,622.0,623.0,624.0,625.0,626.0,627.0,628.0,629.0,630.0,631.0,632.0,633.0,634.0,635.0,636.0,637.0,638.0,639.0,640.0,641.0,642.0,643.0,644.0,645.0,646.0,647.0,648.0,649.0,650.0,651.0,652.0,653.0,654.0,655.0,656.0,657.0,658.0,659.0,660.0,661.0,662.0,663.0,664.0,665.0,666.0,667.0,668.0,669.0,670.0,671.0,672.0,673.0,674.0,675.0,676.0,677.0,678.0,679.0,680.0,681.0,682.0,683.0,684.0,685.0,686.0,687.0,688.0,689.0,690.0,691.0,692.0,693.0,694.0,695.0,696.0,697.0,698.0,699.0,700.0,701.0,702.0,703.0,704.0,705.0,706.0,707.0,708.0,709.0,710.0,711.0,712.0,713.0,714.0,715.0,716.0,717.0,718.0,719.0],\"yaxis\":\"y\",\"type\":\"scattergl\"},{\"hovertemplate\":\"variable=cosine<br>time=%{x}<br>value=%{y}<extra></extra>\",\"legendgroup\":\"cosine\",\"line\":{\"color\":\"#EF553B\",\"dash\":\"solid\"},\"marker\":{\"symbol\":\"circle\"},\"mode\":\"lines\",\"name\":\"cosine\",\"showlegend\":true,\"x\":[360.0,361.0,362.0,363.0,364.0,365.0,366.0,367.0,368.0,369.0,370.0,371.0,372.0,373.0,374.0,375.0,376.0,377.0,378.0,379.0,380.0,381.0,382.0,383.0,384.0,385.0,386.0,387.0,388.0,389.0,390.0,391.0,392.0,393.0,394.0,395.0,396.0,397.0,398.0,399.0,400.0,401.0,402.0,403.0,404.0,405.0,406.0,407.0,408.0,409.0,410.0,411.0,412.0,413.0,414.0,415.0,416.0,417.0,418.0,419.0,420.0,421.0,422.0,423.0,424.0,425.0,426.0,427.0,428.0,429.0,430.0,431.0,432.0,433.0,434.0,435.0,436.0,437.0,438.0,439.0,440.0,441.0,442.0,443.0,444.0,445.0,446.0,447.0,448.0,449.0,450.0,451.0,452.0,453.0,454.0,455.0,456.0,457.0,458.0,459.0,460.0,461.0,462.0,463.0,464.0,465.0,466.0,467.0,468.0,469.0,470.0,471.0,472.0,473.0,474.0,475.0,476.0,477.0,478.0,479.0,480.0,481.0,482.0,483.0,484.0,485.0,486.0,487.0,488.0,489.0,490.0,491.0,492.0,493.0,494.0,495.0,496.0,497.0,498.0,499.0,500.0,501.0,502.0,503.0,504.0,505.0,506.0,507.0,508.0,509.0,510.0,511.0,512.0,513.0,514.0,515.0,516.0,517.0,518.0,519.0,520.0,521.0,522.0,523.0,524.0,525.0,526.0,527.0,528.0,529.0,530.0,531.0,532.0,533.0,534.0,535.0,536.0,537.0,538.0,539.0,540.0,541.0,542.0,543.0,544.0,545.0,546.0,547.0,548.0,549.0,550.0,551.0,552.0,553.0,554.0,555.0,556.0,557.0,558.0,559.0,560.0,561.0,562.0,563.0,564.0,565.0,566.0,567.0,568.0,569.0,570.0,571.0,572.0,573.0,574.0,575.0,576.0,577.0,578.0,579.0,580.0,581.0,582.0,583.0,584.0,585.0,586.0,587.0,588.0,589.0,590.0,591.0,592.0,593.0,594.0,595.0,596.0,597.0,598.0,599.0,600.0,601.0,602.0,603.0,604.0,605.0,606.0,607.0,608.0,609.0,610.0,611.0,612.0,613.0,614.0,615.0,616.0,617.0,618.0,619.0,620.0,621.0,622.0,623.0,624.0,625.0,626.0,627.0,628.0,629.0,630.0,631.0,632.0,633.0,634.0,635.0,636.0,637.0,638.0,639.0,640.0,641.0,642.0,643.0,644.0,645.0,646.0,647.0,648.0,649.0,650.0,651.0,652.0,653.0,654.0,655.0,656.0,657.0,658.0,659.0,660.0,661.0,662.0,663.0,664.0,665.0,666.0,667.0,668.0,669.0,670.0,671.0,672.0,673.0,674.0,675.0,676.0,677.0,678.0,679.0,680.0,681.0,682.0,683.0,684.0,685.0,686.0,687.0,688.0,689.0,690.0,691.0,692.0,693.0,694.0,695.0,696.0,697.0,698.0,699.0,700.0,701.0,702.0,703.0,704.0,705.0,706.0,707.0,708.0,709.0,710.0,711.0,712.0,713.0,714.0,715.0,716.0,717.0,718.0,719.0],\"xaxis\":\"x\",\"y\":[520.0,518.7788625114356,517.5348458715631,516.269465723032,514.9842637366365,513.6808057330268,512.360679774998,511.02549423268,509.67687582398673,508.3164676327104,506.94592710667723,505.5669240384026,504.18113853070616,502.790258949765,501.3959798681,500.0,498.6040201319,497.209741050235,495.8188614692939,494.4330759615974,493.05407289332277,491.6835323672896,490.3231241760133,488.97450576732,487.6393202250021,486.3191942669732,485.0157362633635,483.730534276968,482.4651541284369,481.2211374885644,480.0,478.8032294306718,477.63228386117015,476.4885899083011,475.3735409869737,474.28849561253844,473.23477574564566,472.2136651816401,471.226407986454,470.27420698090424,469.3582222752409,468.47956985573114,467.6393202250021,466.8384970977983,466.078076153743,465.3589838486225,464.6820962856429,464.0482381480333,463.45818169429594,462.9126458173285,462.4122951685637,461.95773934819385,461.54953216246724,461.18817094896013,460.8740959706478,460.60768987951167,460.38927725033716,460.21912418526904,460.09743798960704,460.0243669192362,460.0,460.0243669192362,460.09743798960704,460.21912418526904,460.38927725033716,460.60768987951167,460.8740959706478,461.18817094896013,461.54953216246724,461.95773934819385,462.4122951685637,462.9126458173285,463.45818169429594,464.0482381480333,464.6820962856429,465.3589838486225,466.0780761537429,466.8384970977983,467.6393202250021,468.4795698557311,469.3582222752409,470.27420698090424,471.226407986454,472.21366518164007,473.23477574564566,474.28849561253844,475.3735409869737,476.4885899083011,477.6322838611701,478.8032294306718,480.0,481.22113748856435,482.4651541284369,483.730534276968,485.0157362633635,486.3191942669732,487.6393202250021,488.97450576732007,490.32312417601327,491.6835323672896,493.05407289332277,494.43307596159735,495.81886146929384,497.209741050235,498.6040201319,500.0,501.3959798681,502.790258949765,504.18113853070616,505.5669240384026,506.9459271066772,508.3164676327104,509.6768758239867,511.02549423267993,512.3606797749978,513.6808057330268,514.9842637366364,516.269465723032,517.5348458715631,518.7788625114356,520.0,521.1967705693282,522.3677161388299,523.511410091699,524.6264590130263,525.7115043874616,526.7652242543543,527.7863348183599,528.773592013546,529.7257930190957,530.6417777247591,531.5204301442689,532.3606797749978,533.1615029022016,533.9219238462571,534.6410161513776,535.317903714357,535.9517618519667,536.541818305704,537.0873541826714,537.5877048314363,538.0422606518061,538.4504678375328,538.8118290510398,539.1259040293522,539.3923101204883,539.6107227496628,539.780875814731,539.902562010393,539.9756330807638,540.0,539.9756330807638,539.902562010393,539.780875814731,539.6107227496628,539.3923101204883,539.1259040293522,538.8118290510398,538.4504678375328,538.0422606518061,537.5877048314363,537.0873541826714,536.541818305704,535.9517618519667,535.317903714357,534.6410161513776,533.9219238462571,533.1615029022016,532.360679774998,531.5204301442689,530.6417777247591,529.7257930190958,528.773592013546,527.7863348183599,526.7652242543543,525.7115043874616,524.6264590130263,523.511410091699,522.3677161388299,521.1967705693282,520.0,518.7788625114356,517.5348458715631,516.269465723032,514.9842637366365,513.6808057330268,512.360679774998,511.02549423268,509.67687582398673,508.3164676327104,506.94592710667723,505.5669240384026,504.18113853070616,502.790258949765,501.3959798681,500.0,498.6040201319,497.209741050235,495.8188614692939,494.4330759615974,493.05407289332277,491.6835323672896,490.3231241760133,488.97450576732,487.6393202250021,486.3191942669732,485.0157362633635,483.730534276968,482.4651541284369,481.2211374885644,480.0,478.8032294306718,477.63228386117015,476.4885899083011,475.3735409869737,474.28849561253844,473.23477574564566,472.2136651816401,471.226407986454,470.27420698090424,469.3582222752409,468.47956985573114,467.6393202250021,466.8384970977983,466.078076153743,465.3589838486225,464.6820962856429,464.0482381480333,463.45818169429594,462.9126458173285,462.4122951685637,461.95773934819385,461.54953216246724,461.18817094896013,460.8740959706478,460.60768987951167,460.38927725033716,460.21912418526904,460.09743798960704,460.0243669192362,460.0,460.0243669192362,460.09743798960704,460.21912418526904,460.38927725033716,460.60768987951167,460.8740959706478,461.18817094896013,461.54953216246724,461.95773934819385,462.4122951685637,462.9126458173285,463.45818169429594,464.0482381480333,464.6820962856429,465.3589838486225,466.0780761537429,466.8384970977983,467.6393202250021,468.4795698557311,469.3582222752409,470.27420698090424,471.226407986454,472.21366518164007,473.23477574564566,474.28849561253844,475.3735409869737,476.4885899083011,477.6322838611701,478.8032294306718,480.0,481.22113748856435,482.4651541284369,483.730534276968,485.0157362633635,486.3191942669732,487.6393202250021,488.97450576732007,490.32312417601327,491.6835323672896,493.05407289332277,494.43307596159735,495.81886146929384,497.209741050235,498.6040201319,500.0,501.3959798681,502.790258949765,504.18113853070616,505.5669240384026,506.9459271066772,508.3164676327104,509.6768758239867,511.02549423267993,512.3606797749978,513.6808057330268,514.9842637366364,516.269465723032,517.5348458715631,518.7788625114356,520.0,521.1967705693282,522.3677161388299,523.511410091699,524.6264590130263,525.7115043874616,526.7652242543543,527.7863348183599,528.773592013546,529.7257930190957,530.6417777247591,531.5204301442689,532.3606797749978,533.1615029022016,533.9219238462571,534.6410161513776,535.317903714357,535.9517618519667,536.541818305704,537.0873541826714,537.5877048314363,538.0422606518061,538.4504678375328,538.8118290510398,539.1259040293522,539.3923101204883,539.6107227496628,539.780875814731,539.902562010393,539.9756330807638,540.0,539.9756330807638,539.902562010393,539.780875814731,539.6107227496628,539.3923101204883,539.1259040293522,538.8118290510398,538.4504678375328,538.0422606518061,537.5877048314363,537.0873541826714,536.541818305704,535.9517618519667,535.317903714357,534.6410161513776,533.9219238462571,533.1615029022016,532.360679774998,531.5204301442689,530.6417777247591,529.7257930190958,528.773592013546,527.7863348183599,526.7652242543543,525.7115043874616,524.6264590130263,523.511410091699,522.3677161388299,521.1967705693282],\"yaxis\":\"y\",\"type\":\"scattergl\"},{\"hovertemplate\":\"variable=triangle<br>time=%{x}<br>value=%{y}<extra></extra>\",\"legendgroup\":\"triangle\",\"line\":{\"color\":\"#00cc96\",\"dash\":\"solid\"},\"marker\":{\"symbol\":\"circle\"},\"mode\":\"lines\",\"name\":\"triangle\",\"showlegend\":true,\"x\":[360.0,361.0,362.0,363.0,364.0,365.0,366.0,367.0,368.0,369.0,370.0,371.0,372.0,373.0,374.0,375.0,376.0,377.0,378.0,379.0,380.0,381.0,382.0,383.0,384.0,385.0,386.0,387.0,388.0,389.0,390.0,391.0,392.0,393.0,394.0,395.0,396.0,397.0,398.0,399.0,400.0,401.0,402.0,403.0,404.0,405.0,406.0,407.0,408.0,409.0,410.0,411.0,412.0,413.0,414.0,415.0,416.0,417.0,418.0,419.0,420.0,421.0,422.0,423.0,424.0,425.0,426.0,427.0,428.0,429.0,430.0,431.0,432.0,433.0,434.0,435.0,436.0,437.0,438.0,439.0,440.0,441.0,442.0,443.0,444.0,445.0,446.0,447.0,448.0,449.0,450.0,451.0,452.0,453.0,454.0,455.0,456.0,457.0,458.0,459.0,460.0,461.0,462.0,463.0,464.0,465.0,466.0,467.0,468.0,469.0,470.0,471.0,472.0,473.0,474.0,475.0,476.0,477.0,478.0,479.0,480.0,481.0,482.0,483.0,484.0,485.0,486.0,487.0,488.0,489.0,490.0,491.0,492.0,493.0,494.0,495.0,496.0,497.0,498.0,499.0,500.0,501.0,502.0,503.0,504.0,505.0,506.0,507.0,508.0,509.0,510.0,511.0,512.0,513.0,514.0,515.0,516.0,517.0,518.0,519.0,520.0,521.0,522.0,523.0,524.0,525.0,526.0,527.0,528.0,529.0,530.0,531.0,532.0,533.0,534.0,535.0,536.0,537.0,538.0,539.0,540.0,541.0,542.0,543.0,544.0,545.0,546.0,547.0,548.0,549.0,550.0,551.0,552.0,553.0,554.0,555.0,556.0,557.0,558.0,559.0,560.0,561.0,562.0,563.0,564.0,565.0,566.0,567.0,568.0,569.0,570.0,571.0,572.0,573.0,574.0,575.0,576.0,577.0,578.0,579.0,580.0,581.0,582.0,583.0,584.0,585.0,586.0,587.0,588.0,589.0,590.0,591.0,592.0,593.0,594.0,595.0,596.0,597.0,598.0,599.0,600.0,601.0,602.0,603.0,604.0,605.0,606.0,607.0,608.0,609.0,610.0,611.0,612.0,613.0,614.0,615.0,616.0,617.0,618.0,619.0,620.0,621.0,622.0,623.0,624.0,625.0,626.0,627.0,628.0,629.0,630.0,631.0,632.0,633.0,634.0,635.0,636.0,637.0,638.0,639.0,640.0,641.0,642.0,643.0,644.0,645.0,646.0,647.0,648.0,649.0,650.0,651.0,652.0,653.0,654.0,655.0,656.0,657.0,658.0,659.0,660.0,661.0,662.0,663.0,664.0,665.0,666.0,667.0,668.0,669.0,670.0,671.0,672.0,673.0,674.0,675.0,676.0,677.0,678.0,679.0,680.0,681.0,682.0,683.0,684.0,685.0,686.0,687.0,688.0,689.0,690.0,691.0,692.0,693.0,694.0,695.0,696.0,697.0,698.0,699.0,700.0,701.0,702.0,703.0,704.0,705.0,706.0,707.0,708.0,709.0,710.0,711.0,712.0,713.0,714.0,715.0,716.0,717.0,718.0,719.0],\"xaxis\":\"x\",\"y\":[513.3333333333334,513.7777777777778,514.2222222222222,514.6666666666666,515.1111111111111,515.5555555555555,516.0,516.4444444444445,516.8888888888889,517.3333333333334,517.7777777777778,518.2222222222222,518.6666666666666,519.1111111111111,519.5555555555555,520.0,520.4444444444445,520.8888888888889,521.3333333333334,521.7777777777778,522.2222222222222,522.6666666666666,523.1111111111111,523.5555555555555,524.0,524.4444444444445,524.8888888888889,525.3333333333334,525.7777777777778,526.2222222222222,526.6666666666666,527.1111111111111,527.5555555555555,528.0,528.4444444444445,528.8888888888889,529.3333333333334,529.7777777777778,530.2222222222222,530.6666666666666,531.1111111111111,531.5555555555555,532.0,532.4444444444445,532.8888888888889,533.3333333333334,533.7777777777778,534.2222222222222,534.6666666666666,535.1111111111111,535.5555555555555,536.0,536.4444444444445,536.8888888888889,537.3333333333334,537.7777777777778,538.2222222222222,538.6666666666666,539.1111111111111,539.5555555555555,540.0,539.5555555555555,539.1111111111111,538.6666666666666,538.2222222222222,537.7777777777778,537.3333333333334,536.8888888888889,536.4444444444445,536.0,535.5555555555555,535.1111111111111,534.6666666666666,534.2222222222222,533.7777777777778,533.3333333333334,532.8888888888889,532.4444444444445,532.0,531.5555555555555,531.1111111111111,530.6666666666666,530.2222222222222,529.7777777777778,529.3333333333334,528.8888888888889,528.4444444444445,528.0,527.5555555555555,527.1111111111111,526.6666666666666,526.2222222222222,525.7777777777778,525.3333333333334,524.8888888888889,524.4444444444445,524.0,523.5555555555555,523.1111111111111,522.6666666666666,522.2222222222222,521.7777777777778,521.3333333333334,520.8888888888889,520.4444444444445,520.0,519.5555555555555,519.1111111111111,518.6666666666666,518.2222222222222,517.7777777777778,517.3333333333334,516.8888888888889,516.4444444444445,516.0,515.5555555555555,515.1111111111111,514.6666666666666,514.2222222222222,513.7777777777778,513.3333333333334,512.8888888888889,512.4444444444445,512.0,511.55555555555554,511.1111111111111,510.6666666666667,510.22222222222223,509.77777777777777,509.3333333333333,508.8888888888889,508.44444444444446,508.0,507.55555555555554,507.1111111111111,506.6666666666667,506.22222222222223,505.77777777777777,505.3333333333333,504.8888888888889,504.44444444444446,504.0,503.55555555555554,503.1111111111111,502.6666666666667,502.22222222222223,501.77777777777777,501.3333333333333,500.8888888888889,500.44444444444446,500.0,500.44444444444446,500.8888888888889,501.3333333333333,501.77777777777777,502.22222222222223,502.6666666666667,503.1111111111111,503.55555555555554,504.0,504.44444444444446,504.8888888888889,505.3333333333333,505.77777777777777,506.22222222222223,506.6666666666667,507.1111111111111,507.55555555555554,508.0,508.44444444444446,508.8888888888889,509.3333333333333,509.77777777777777,510.22222222222223,510.6666666666667,511.1111111111111,511.55555555555554,512.0,512.4444444444445,512.8888888888889,513.3333333333334,513.7777777777778,514.2222222222222,514.6666666666666,515.1111111111111,515.5555555555555,516.0,516.4444444444445,516.8888888888889,517.3333333333334,517.7777777777778,518.2222222222222,518.6666666666666,519.1111111111111,519.5555555555555,520.0,520.4444444444445,520.8888888888889,521.3333333333334,521.7777777777778,522.2222222222222,522.6666666666666,523.1111111111111,523.5555555555555,524.0,524.4444444444445,524.8888888888889,525.3333333333334,525.7777777777778,526.2222222222222,526.6666666666666,527.1111111111111,527.5555555555555,528.0,528.4444444444445,528.8888888888889,529.3333333333334,529.7777777777778,530.2222222222222,530.6666666666666,531.1111111111111,531.5555555555555,532.0,532.4444444444445,532.8888888888889,533.3333333333334,533.7777777777778,534.2222222222222,534.6666666666666,535.1111111111111,535.5555555555555,536.0,536.4444444444445,536.8888888888889,537.3333333333334,537.7777777777778,538.2222222222222,538.6666666666666,539.1111111111111,539.5555555555555,540.0,539.5555555555555,539.1111111111111,538.6666666666666,538.2222222222222,537.7777777777778,537.3333333333334,536.8888888888889,536.4444444444445,536.0,535.5555555555555,535.1111111111111,534.6666666666666,534.2222222222222,533.7777777777778,533.3333333333334,532.8888888888889,532.4444444444445,532.0,531.5555555555555,531.1111111111111,530.6666666666666,530.2222222222222,529.7777777777778,529.3333333333334,528.8888888888889,528.4444444444445,528.0,527.5555555555555,527.1111111111111,526.6666666666666,526.2222222222222,525.7777777777778,525.3333333333334,524.8888888888889,524.4444444444445,524.0,523.5555555555555,523.1111111111111,522.6666666666666,522.2222222222222,521.7777777777778,521.3333333333334,520.8888888888889,520.4444444444445,520.0,519.5555555555555,519.1111111111111,518.6666666666666,518.2222222222222,517.7777777777778,517.3333333333334,516.8888888888889,516.4444444444445,516.0,515.5555555555555,515.1111111111111,514.6666666666666,514.2222222222222,513.7777777777778,513.3333333333334,512.8888888888889,512.4444444444445,512.0,511.55555555555554,511.1111111111111,510.6666666666667,510.22222222222223,509.77777777777777,509.3333333333333,508.8888888888889,508.44444444444446,508.0,507.55555555555554,507.1111111111111,506.6666666666667,506.22222222222223,505.77777777777777,505.3333333333333,504.8888888888889,504.44444444444446,504.0,503.55555555555554,503.1111111111111,502.6666666666667,502.22222222222223,501.77777777777777,501.3333333333333,500.8888888888889,500.44444444444446,500.0,500.44444444444446,500.8888888888889,501.3333333333333,501.77777777777777,502.22222222222223,502.6666666666667,503.1111111111111,503.55555555555554,504.0,504.44444444444446,504.8888888888889,505.3333333333333,505.77777777777777,506.22222222222223,506.6666666666667,507.1111111111111,507.55555555555554,508.0,508.44444444444446,508.8888888888889,509.3333333333333,509.77777777777777,510.22222222222223,510.6666666666667,511.1111111111111,511.55555555555554,512.0,512.4444444444445,512.8888888888889],\"yaxis\":\"y\",\"type\":\"scattergl\"},{\"hovertemplate\":\"variable=series<br>time=%{x}<br>value=%{y}<extra></extra>\",\"legendgroup\":\"series\",\"line\":{\"color\":\"#ab63fa\",\"dash\":\"solid\"},\"marker\":{\"symbol\":\"circle\"},\"mode\":\"lines\",\"name\":\"series\",\"showlegend\":true,\"x\":[360.0,361.0,362.0,363.0,364.0,365.0,366.0,367.0,368.0,369.0,370.0,371.0,372.0,373.0,374.0,375.0,376.0,377.0,378.0,379.0,380.0,381.0,382.0,383.0,384.0,385.0,386.0,387.0,388.0,389.0,390.0,391.0,392.0,393.0,394.0,395.0,396.0,397.0,398.0,399.0,400.0,401.0,402.0,403.0,404.0,405.0,406.0,407.0,408.0,409.0,410.0,411.0,412.0,413.0,414.0,415.0,416.0,417.0,418.0,419.0,420.0,421.0,422.0,423.0,424.0,425.0,426.0,427.0,428.0,429.0,430.0,431.0,432.0,433.0,434.0,435.0,436.0,437.0,438.0,439.0,440.0,441.0,442.0,443.0,444.0,445.0,446.0,447.0,448.0,449.0,450.0,451.0,452.0,453.0,454.0,455.0,456.0,457.0,458.0,459.0,460.0,461.0,462.0,463.0,464.0,465.0,466.0,467.0,468.0,469.0,470.0,471.0,472.0,473.0,474.0,475.0,476.0,477.0,478.0,479.0,480.0,481.0,482.0,483.0,484.0,485.0,486.0,487.0,488.0,489.0,490.0,491.0,492.0,493.0,494.0,495.0,496.0,497.0,498.0,499.0,500.0,501.0,502.0,503.0,504.0,505.0,506.0,507.0,508.0,509.0,510.0,511.0,512.0,513.0,514.0,515.0,516.0,517.0,518.0,519.0,520.0,521.0,522.0,523.0,524.0,525.0,526.0,527.0,528.0,529.0,530.0,531.0,532.0,533.0,534.0,535.0,536.0,537.0,538.0,539.0,540.0,541.0,542.0,543.0,544.0,545.0,546.0,547.0,548.0,549.0,550.0,551.0,552.0,553.0,554.0,555.0,556.0,557.0,558.0,559.0,560.0,561.0,562.0,563.0,564.0,565.0,566.0,567.0,568.0,569.0,570.0,571.0,572.0,573.0,574.0,575.0,576.0,577.0,578.0,579.0,580.0,581.0,582.0,583.0,584.0,585.0,586.0,587.0,588.0,589.0,590.0,591.0,592.0,593.0,594.0,595.0,596.0,597.0,598.0,599.0,600.0,601.0,602.0,603.0,604.0,605.0,606.0,607.0,608.0,609.0,610.0,611.0,612.0,613.0,614.0,615.0,616.0,617.0,618.0,619.0,620.0,621.0,622.0,623.0,624.0,625.0,626.0,627.0,628.0,629.0,630.0,631.0,632.0,633.0,634.0,635.0,636.0,637.0,638.0,639.0,640.0,641.0,642.0,643.0,644.0,645.0,646.0,647.0,648.0,649.0,650.0,651.0,652.0,653.0,654.0,655.0,656.0,657.0,658.0,659.0,660.0,661.0,662.0,663.0,664.0,665.0,666.0,667.0,668.0,669.0,670.0,671.0,672.0,673.0,674.0,675.0,676.0,677.0,678.0,679.0,680.0,681.0,682.0,683.0,684.0,685.0,686.0,687.0,688.0,689.0,690.0,691.0,692.0,693.0,694.0,695.0,696.0,697.0,698.0,699.0,700.0,701.0,702.0,703.0,704.0,705.0,706.0,707.0,708.0,709.0,710.0,711.0,712.0,713.0,714.0,715.0,716.0,717.0,718.0,719.0],\"xaxis\":\"x\",\"y\":[550.7409642486944,552.9130216908527,544.261512506907,551.0023864529135,547.9177265295659,552.4023301387961,554.6984076156077,563.8750817439754,559.7653849317602,550.9190381347794,561.8620511773089,557.3494723893664,561.366056353784,561.4267025902286,552.9370355881805,555.3181724879595,552.9231500695603,566.5179267621662,557.0248605881264,562.7820730576416,559.4124650571899,560.7229560699789,552.7729702483826,562.1928503027565,559.6188539757982,559.6308612170848,565.087518415036,562.4261232021641,561.2967363598158,568.7999143173032,564.7683773611608,562.6530158143804,567.991131750589,570.1588471850545,563.721687548868,574.1791570851099,576.976383205171,567.4410640704554,568.3225457551454,569.0890057661079,573.8926558567997,576.1185264695346,573.0720501635262,573.656911489556,569.9643296993044,566.6606347140767,581.2438638171693,586.2869540417338,571.2194741655876,574.875961340852,570.3331185117877,571.5922335573543,576.1390374319575,575.0819941601543,590.0803043345257,580.730346401568,585.7957466092951,582.5649785472107,587.0408563853275,585.5486283646177,589.2252736477079,581.4739428745286,574.0898821265433,580.9506834857995,584.9968030221248,584.3345627997717,577.2894147680624,576.9218448620514,579.0639268958109,577.5443811283034,585.9274834280209,579.134419609618,584.9445960481355,576.9551580765633,585.3876400610038,567.8971851283154,573.5117265165729,573.7651166844881,575.2924958182313,573.5408415209697,578.3155903464121,573.851599416365,566.056009728374,578.6575384042827,577.9960554605289,570.04410087228,571.074252383921,569.1171534627512,577.585141186165,582.6744674834736,576.4510657916547,575.2612764981805,571.4739641186397,572.6991632062943,567.5795453740867,572.6861228560939,574.3558972886176,569.8254630522441,574.5620451903276,572.5783941782719,577.9915221285152,557.5675670204862,572.6535532690866,556.4021944951241,566.888807784942,561.9667661257206,569.9314897584359,573.6714106274949,562.0128976997927,567.6956147283419,570.9764883750953,568.0196945533605,567.8759984838157,564.3773417504127,553.0307058433448,561.6583853619882,574.0953866402524,559.5971043481137,563.9281461502634,558.9896948019688,555.3161753999311,557.2294546304414,558.2268993790378,558.5610019188721,567.6639644119771,557.1384766748263,550.1932014388135,560.931568415749,554.3238263007682,555.9181936815532,562.289691413582,543.340503789832,554.1696828522174,557.3486414068733,553.95405845732,565.3005087755105,555.1009493987661,553.2325150098277,546.0548497752277,549.5559635469486,552.2585982831421,554.5500167004071,558.0132434799232,548.6198625522027,555.0362816911264,551.0953259871213,551.7050112734335,546.5093212512022,556.2232518452328,548.9740269442354,548.4500948989547,548.3148994521404,558.8924815605646,551.1178927764913,553.9820259617118,549.8278574736337,552.8664231354195,559.6219504006933,553.8673091570811,549.5899243097091,554.525571041549,563.1055531753119,554.4056349335054,563.3442679200374,555.1555979612259,561.5540649582366,571.7520847057187,563.8749364878868,554.7665205275257,559.0552499000149,574.3951360813574,562.3843329128946,569.3067219967534,560.2454485436979,560.6738681772424,565.7703736126529,570.4212605814422,561.4398425829769,571.9476000318591,561.6053405225604,571.9433499002836,571.8566847692717,571.3170858512174,568.4111484938692,575.8760278223564,568.6080916838978,570.1044124753909,564.4807433349968,566.8534333641835,577.7853829433881,569.6255850294157,576.571479723243,576.3388402939484,573.1955092045793,566.508856440331,578.5065290199536,582.6525376966274,568.9813638755644,578.0358750806862,574.0537172106589,577.2187601091168,582.3575198624933,577.3034393380698,574.6406405087754,580.2307382613466,576.5101372018606,585.2938977072732,577.921769493726,586.8292221506257,580.781336421635,583.1923521365638,574.654991860867,583.9318485500079,588.0136166636378,588.4241511046267,579.06793303158,583.7850485852229,589.7378594986079,593.2439321808237,584.7058707307035,592.6459064742113,589.3510297187804,595.4023175707016,584.597506223785,595.748821226218,596.4134925130736,598.2514495674294,596.4083383327495,599.2673460972502,592.9992390033162,588.6117145004598,587.3433604636008,592.7349880216033,596.456119986998,605.3960842502431,596.0666435588643,594.814507348993,595.1285801929452,606.6629686202364,601.9748231430494,606.9644529334079,599.2191290151479,602.4456498696253,593.972992803573,592.9703625406115,605.0725539281163,603.2797985571303,596.987624026074,598.4923850463064,600.8426671440327,596.8762801765897,597.4292523501432,589.7822284626525,589.7462369708875,591.3449221351192,599.1231195752634,599.3639880966099,594.9233751651925,593.9872453253818,596.7757735412308,596.8312529506591,589.6724256042511,591.403989196101,590.643421481182,589.7115473328839,588.2275310033924,592.8725693564703,583.2743057480906,590.9398221212193,586.8668367127533,591.2374976540608,588.790674990727,585.8711092105876,586.7726673721094,584.6677114193704,590.621829756933,596.9015639431457,583.082691471621,582.5861775051553,588.6235375907377,586.4103127513629,595.1558113109924,580.1413018799968,583.3360700975521,587.3693120217764,584.0555080857702,593.6018734415779,586.3174981359098,579.529383216624,580.4830450027355,582.5636938770685,576.6692359363317,582.049728381155,579.152859503672,576.9490346218186,577.7428983953198,571.8680982713626,589.0444986889707,574.0905796692618,573.7492745409477,582.0346973394281,580.284236520556,580.0393118146144,572.8218674533914,564.1758431273018,581.0102138495341,574.8144527426878,577.035966315255,570.1085935281458,575.6629095588597,581.165908535911,573.9949465099287,566.7317961643549,571.6826139269842,576.9502718492914,576.8154687955538,566.0651075735228,575.0781763405333,568.6110211482587,570.4222296471554,578.5455575768501,572.6396668870268,575.1749054520745,569.8788941640178,565.0255822594029,570.3607482479952,570.8971647185617,563.0710425767423,572.6448913596471,563.528016938424,570.230730885937,571.7654448994093,559.4022217669902,578.3640197841004,571.6558221570155,577.1794779532992,570.0243027228955,575.9221519734535,578.2354287778372,584.6460739449997,568.9486512589954,575.6225925809503,576.0831142890044,576.0847915914353,576.851852523463,572.9151781338196,568.2742070093942,571.6798604248798,577.0181004555961,580.344463681388,580.1649783120487,583.1156120901071,576.7484795739146,580.7116154080765,579.6527272899586,583.610900102733,580.3233737928282,586.4289249350235,591.112026454606,584.8912768141711],\"yaxis\":\"y\",\"type\":\"scattergl\"}],                        {\"template\":{\"data\":{\"bar\":[{\"error_x\":{\"color\":\"#2a3f5f\"},\"error_y\":{\"color\":\"#2a3f5f\"},\"marker\":{\"line\":{\"color\":\"#E5ECF6\",\"width\":0.5},\"pattern\":{\"fillmode\":\"overlay\",\"size\":10,\"solidity\":0.2}},\"type\":\"bar\"}],\"barpolar\":[{\"marker\":{\"line\":{\"color\":\"#E5ECF6\",\"width\":0.5},\"pattern\":{\"fillmode\":\"overlay\",\"size\":10,\"solidity\":0.2}},\"type\":\"barpolar\"}],\"carpet\":[{\"aaxis\":{\"endlinecolor\":\"#2a3f5f\",\"gridcolor\":\"white\",\"linecolor\":\"white\",\"minorgridcolor\":\"white\",\"startlinecolor\":\"#2a3f5f\"},\"baxis\":{\"endlinecolor\":\"#2a3f5f\",\"gridcolor\":\"white\",\"linecolor\":\"white\",\"minorgridcolor\":\"white\",\"startlinecolor\":\"#2a3f5f\"},\"type\":\"carpet\"}],\"choropleth\":[{\"colorbar\":{\"outlinewidth\":0,\"ticks\":\"\"},\"type\":\"choropleth\"}],\"contour\":[{\"colorbar\":{\"outlinewidth\":0,\"ticks\":\"\"},\"colorscale\":[[0.0,\"#0d0887\"],[0.1111111111111111,\"#46039f\"],[0.2222222222222222,\"#7201a8\"],[0.3333333333333333,\"#9c179e\"],[0.4444444444444444,\"#bd3786\"],[0.5555555555555556,\"#d8576b\"],[0.6666666666666666,\"#ed7953\"],[0.7777777777777778,\"#fb9f3a\"],[0.8888888888888888,\"#fdca26\"],[1.0,\"#f0f921\"]],\"type\":\"contour\"}],\"contourcarpet\":[{\"colorbar\":{\"outlinewidth\":0,\"ticks\":\"\"},\"type\":\"contourcarpet\"}],\"heatmap\":[{\"colorbar\":{\"outlinewidth\":0,\"ticks\":\"\"},\"colorscale\":[[0.0,\"#0d0887\"],[0.1111111111111111,\"#46039f\"],[0.2222222222222222,\"#7201a8\"],[0.3333333333333333,\"#9c179e\"],[0.4444444444444444,\"#bd3786\"],[0.5555555555555556,\"#d8576b\"],[0.6666666666666666,\"#ed7953\"],[0.7777777777777778,\"#fb9f3a\"],[0.8888888888888888,\"#fdca26\"],[1.0,\"#f0f921\"]],\"type\":\"heatmap\"}],\"heatmapgl\":[{\"colorbar\":{\"outlinewidth\":0,\"ticks\":\"\"},\"colorscale\":[[0.0,\"#0d0887\"],[0.1111111111111111,\"#46039f\"],[0.2222222222222222,\"#7201a8\"],[0.3333333333333333,\"#9c179e\"],[0.4444444444444444,\"#bd3786\"],[0.5555555555555556,\"#d8576b\"],[0.6666666666666666,\"#ed7953\"],[0.7777777777777778,\"#fb9f3a\"],[0.8888888888888888,\"#fdca26\"],[1.0,\"#f0f921\"]],\"type\":\"heatmapgl\"}],\"histogram\":[{\"marker\":{\"pattern\":{\"fillmode\":\"overlay\",\"size\":10,\"solidity\":0.2}},\"type\":\"histogram\"}],\"histogram2d\":[{\"colorbar\":{\"outlinewidth\":0,\"ticks\":\"\"},\"colorscale\":[[0.0,\"#0d0887\"],[0.1111111111111111,\"#46039f\"],[0.2222222222222222,\"#7201a8\"],[0.3333333333333333,\"#9c179e\"],[0.4444444444444444,\"#bd3786\"],[0.5555555555555556,\"#d8576b\"],[0.6666666666666666,\"#ed7953\"],[0.7777777777777778,\"#fb9f3a\"],[0.8888888888888888,\"#fdca26\"],[1.0,\"#f0f921\"]],\"type\":\"histogram2d\"}],\"histogram2dcontour\":[{\"colorbar\":{\"outlinewidth\":0,\"ticks\":\"\"},\"colorscale\":[[0.0,\"#0d0887\"],[0.1111111111111111,\"#46039f\"],[0.2222222222222222,\"#7201a8\"],[0.3333333333333333,\"#9c179e\"],[0.4444444444444444,\"#bd3786\"],[0.5555555555555556,\"#d8576b\"],[0.6666666666666666,\"#ed7953\"],[0.7777777777777778,\"#fb9f3a\"],[0.8888888888888888,\"#fdca26\"],[1.0,\"#f0f921\"]],\"type\":\"histogram2dcontour\"}],\"mesh3d\":[{\"colorbar\":{\"outlinewidth\":0,\"ticks\":\"\"},\"type\":\"mesh3d\"}],\"parcoords\":[{\"line\":{\"colorbar\":{\"outlinewidth\":0,\"ticks\":\"\"}},\"type\":\"parcoords\"}],\"pie\":[{\"automargin\":true,\"type\":\"pie\"}],\"scatter\":[{\"marker\":{\"colorbar\":{\"outlinewidth\":0,\"ticks\":\"\"}},\"type\":\"scatter\"}],\"scatter3d\":[{\"line\":{\"colorbar\":{\"outlinewidth\":0,\"ticks\":\"\"}},\"marker\":{\"colorbar\":{\"outlinewidth\":0,\"ticks\":\"\"}},\"type\":\"scatter3d\"}],\"scattercarpet\":[{\"marker\":{\"colorbar\":{\"outlinewidth\":0,\"ticks\":\"\"}},\"type\":\"scattercarpet\"}],\"scattergeo\":[{\"marker\":{\"colorbar\":{\"outlinewidth\":0,\"ticks\":\"\"}},\"type\":\"scattergeo\"}],\"scattergl\":[{\"marker\":{\"colorbar\":{\"outlinewidth\":0,\"ticks\":\"\"}},\"type\":\"scattergl\"}],\"scattermapbox\":[{\"marker\":{\"colorbar\":{\"outlinewidth\":0,\"ticks\":\"\"}},\"type\":\"scattermapbox\"}],\"scatterpolar\":[{\"marker\":{\"colorbar\":{\"outlinewidth\":0,\"ticks\":\"\"}},\"type\":\"scatterpolar\"}],\"scatterpolargl\":[{\"marker\":{\"colorbar\":{\"outlinewidth\":0,\"ticks\":\"\"}},\"type\":\"scatterpolargl\"}],\"scatterternary\":[{\"marker\":{\"colorbar\":{\"outlinewidth\":0,\"ticks\":\"\"}},\"type\":\"scatterternary\"}],\"surface\":[{\"colorbar\":{\"outlinewidth\":0,\"ticks\":\"\"},\"colorscale\":[[0.0,\"#0d0887\"],[0.1111111111111111,\"#46039f\"],[0.2222222222222222,\"#7201a8\"],[0.3333333333333333,\"#9c179e\"],[0.4444444444444444,\"#bd3786\"],[0.5555555555555556,\"#d8576b\"],[0.6666666666666666,\"#ed7953\"],[0.7777777777777778,\"#fb9f3a\"],[0.8888888888888888,\"#fdca26\"],[1.0,\"#f0f921\"]],\"type\":\"surface\"}],\"table\":[{\"cells\":{\"fill\":{\"color\":\"#EBF0F8\"},\"line\":{\"color\":\"white\"}},\"header\":{\"fill\":{\"color\":\"#C8D4E3\"},\"line\":{\"color\":\"white\"}},\"type\":\"table\"}]},\"layout\":{\"annotationdefaults\":{\"arrowcolor\":\"#2a3f5f\",\"arrowhead\":0,\"arrowwidth\":1},\"autotypenumbers\":\"strict\",\"coloraxis\":{\"colorbar\":{\"outlinewidth\":0,\"ticks\":\"\"}},\"colorscale\":{\"diverging\":[[0,\"#8e0152\"],[0.1,\"#c51b7d\"],[0.2,\"#de77ae\"],[0.3,\"#f1b6da\"],[0.4,\"#fde0ef\"],[0.5,\"#f7f7f7\"],[0.6,\"#e6f5d0\"],[0.7,\"#b8e186\"],[0.8,\"#7fbc41\"],[0.9,\"#4d9221\"],[1,\"#276419\"]],\"sequential\":[[0.0,\"#0d0887\"],[0.1111111111111111,\"#46039f\"],[0.2222222222222222,\"#7201a8\"],[0.3333333333333333,\"#9c179e\"],[0.4444444444444444,\"#bd3786\"],[0.5555555555555556,\"#d8576b\"],[0.6666666666666666,\"#ed7953\"],[0.7777777777777778,\"#fb9f3a\"],[0.8888888888888888,\"#fdca26\"],[1.0,\"#f0f921\"]],\"sequentialminus\":[[0.0,\"#0d0887\"],[0.1111111111111111,\"#46039f\"],[0.2222222222222222,\"#7201a8\"],[0.3333333333333333,\"#9c179e\"],[0.4444444444444444,\"#bd3786\"],[0.5555555555555556,\"#d8576b\"],[0.6666666666666666,\"#ed7953\"],[0.7777777777777778,\"#fb9f3a\"],[0.8888888888888888,\"#fdca26\"],[1.0,\"#f0f921\"]]},\"colorway\":[\"#636efa\",\"#EF553B\",\"#00cc96\",\"#ab63fa\",\"#FFA15A\",\"#19d3f3\",\"#FF6692\",\"#B6E880\",\"#FF97FF\",\"#FECB52\"],\"font\":{\"color\":\"#2a3f5f\"},\"geo\":{\"bgcolor\":\"white\",\"lakecolor\":\"white\",\"landcolor\":\"#E5ECF6\",\"showlakes\":true,\"showland\":true,\"subunitcolor\":\"white\"},\"hoverlabel\":{\"align\":\"left\"},\"hovermode\":\"closest\",\"mapbox\":{\"style\":\"light\"},\"paper_bgcolor\":\"white\",\"plot_bgcolor\":\"#E5ECF6\",\"polar\":{\"angularaxis\":{\"gridcolor\":\"white\",\"linecolor\":\"white\",\"ticks\":\"\"},\"bgcolor\":\"#E5ECF6\",\"radialaxis\":{\"gridcolor\":\"white\",\"linecolor\":\"white\",\"ticks\":\"\"}},\"scene\":{\"xaxis\":{\"backgroundcolor\":\"#E5ECF6\",\"gridcolor\":\"white\",\"gridwidth\":2,\"linecolor\":\"white\",\"showbackground\":true,\"ticks\":\"\",\"zerolinecolor\":\"white\"},\"yaxis\":{\"backgroundcolor\":\"#E5ECF6\",\"gridcolor\":\"white\",\"gridwidth\":2,\"linecolor\":\"white\",\"showbackground\":true,\"ticks\":\"\",\"zerolinecolor\":\"white\"},\"zaxis\":{\"backgroundcolor\":\"#E5ECF6\",\"gridcolor\":\"white\",\"gridwidth\":2,\"linecolor\":\"white\",\"showbackground\":true,\"ticks\":\"\",\"zerolinecolor\":\"white\"}},\"shapedefaults\":{\"line\":{\"color\":\"#2a3f5f\"}},\"ternary\":{\"aaxis\":{\"gridcolor\":\"white\",\"linecolor\":\"white\",\"ticks\":\"\"},\"baxis\":{\"gridcolor\":\"white\",\"linecolor\":\"white\",\"ticks\":\"\"},\"bgcolor\":\"#E5ECF6\",\"caxis\":{\"gridcolor\":\"white\",\"linecolor\":\"white\",\"ticks\":\"\"}},\"title\":{\"x\":0.05},\"xaxis\":{\"automargin\":true,\"gridcolor\":\"white\",\"linecolor\":\"white\",\"ticks\":\"\",\"title\":{\"standoff\":15},\"zerolinecolor\":\"white\",\"zerolinewidth\":2},\"yaxis\":{\"automargin\":true,\"gridcolor\":\"white\",\"linecolor\":\"white\",\"ticks\":\"\",\"title\":{\"standoff\":15},\"zerolinecolor\":\"white\",\"zerolinewidth\":2}}},\"xaxis\":{\"anchor\":\"y\",\"domain\":[0.0,1.0],\"title\":{\"text\":\"time\"}},\"yaxis\":{\"anchor\":\"x\",\"domain\":[0.0,1.0],\"title\":{\"text\":\"value\"}},\"legend\":{\"title\":{\"text\":\"variable\"},\"tracegroupgap\":0},\"margin\":{\"t\":60},\"height\":400,\"width\":1000},                        {\"responsive\": true}                    ).then(function(){\n",
              "                            \n",
              "var gd = document.getElementById('98f18ccf-4012-4365-81ac-cc126253b51d');\n",
              "var x = new MutationObserver(function (mutations, observer) {{\n",
              "        var display = window.getComputedStyle(gd).display;\n",
              "        if (!display || display === 'none') {{\n",
              "            console.log([gd, 'removed!']);\n",
              "            Plotly.purge(gd);\n",
              "            observer.disconnect();\n",
              "        }}\n",
              "}});\n",
              "\n",
              "// Listen for the removal of the full notebook cells\n",
              "var notebookContainer = gd.closest('#notebook-container');\n",
              "if (notebookContainer) {{\n",
              "    x.observe(notebookContainer, {childList: true});\n",
              "}}\n",
              "\n",
              "// Listen for the clearing of the current output cell\n",
              "var outputEl = gd.closest('.output');\n",
              "if (outputEl) {{\n",
              "    x.observe(outputEl, {childList: true});\n",
              "}}\n",
              "\n",
              "                        })                };                            </script>        </div>\n",
              "</body>\n",
              "</html>"
            ]
          },
          "metadata": {}
        }
      ],
      "source": [
        "for mix,y in train_ds_t.batch(360).shuffle(100):\n",
        "    break\n",
        "plot_series(mix[:,0],\n",
        "            [mix[:,0],mix[:,1]+500,mix[:,2]+500,y],\n",
        "            labels=['t','cosine','triangle','series'])"
      ]
    },
    {
      "cell_type": "code",
      "execution_count": null,
      "metadata": {
        "id": "ci9k6SwQYRuS"
      },
      "outputs": [],
      "source": []
    }
  ],
  "metadata": {
    "kernelspec": {
      "display_name": "Python 3",
      "language": "python",
      "name": "python3"
    },
    "language_info": {
      "codemirror_mode": {
        "name": "ipython",
        "version": 3
      },
      "file_extension": ".py",
      "mimetype": "text/x-python",
      "name": "python",
      "nbconvert_exporter": "python",
      "pygments_lexer": "ipython3",
      "version": "3.7.6"
    },
    "colab": {
      "provenance": []
    }
  },
  "nbformat": 4,
  "nbformat_minor": 0
}